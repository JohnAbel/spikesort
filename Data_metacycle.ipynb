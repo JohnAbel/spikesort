{
 "cells": [
  {
   "cell_type": "code",
   "execution_count": null,
   "metadata": {
    "collapsed": true
   },
   "outputs": [],
   "source": [
    "import os\n",
    "import numpy as np\n",
    "import csv\n",
    "\n",
    "MEA = '102016_MEAC'\n",
    "\n",
    "path = '/Volumes/MEA_DATA_2/102016_MEAC/numpy_neurons/combinedtimestamps/beforestim_timestamps/Circadian3day/'\n",
    "\n",
    "timestamps = os.listdir(path)\n",
    "\n",
    "with open(MEA+'3day.csv', 'w') as csvfile:\n",
    "    jtkcyclefile = csv.writer(csvfile)\n",
    "    jtkcyclefile.writerow(bins)\n",
    "    timestamps = np.sort(timestamps)\n",
    "    for i in range(len(timestamps)):\n",
    "        if timestamps[i][-3:] == 'npy':\n",
    "            counts = np.load(path2+timestamps[i])\n",
    "        else:\n",
    "            continue\n",
    "                \n",
    "        if len(counts) < recordingtime:\n",
    "            counts = counts\n",
    "        else:\n",
    "            counts = counts[:recordingtime]\n",
    "            \n",
    "        counts = counts.tolist()\n",
    "        length = len(counts)\n",
    "        while length < recordingtime:\n",
    "            counts.append(0)\n",
    "            length = length+1\n",
    "\n",
    "        counts.insert(0,timestamps[i])\n",
    "        jtkcyclefile.writerow(counts)\n"
   ]
  }
 ],
 "metadata": {
  "kernelspec": {
   "display_name": "Python 2",
   "language": "python",
   "name": "python2"
  },
  "language_info": {
   "codemirror_mode": {
    "name": "ipython",
    "version": 2
   },
   "file_extension": ".py",
   "mimetype": "text/x-python",
   "name": "python",
   "nbconvert_exporter": "python",
   "pygments_lexer": "ipython2",
   "version": "2.7.12"
  }
 },
 "nbformat": 4,
 "nbformat_minor": 0
}
