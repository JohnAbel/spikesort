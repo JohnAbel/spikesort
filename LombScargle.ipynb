{
 "cells": [
  {
   "cell_type": "code",
   "execution_count": null,
   "metadata": {
    "collapsed": true
   },
   "outputs": [],
   "source": [
    "#testing lombscargle\n",
    "\n",
    "import numpy as np\n",
    "import os\n",
    "import matplotlib.pyplot as plt\n",
    "from astropy.stats import LombScargle"
   ]
  },
  {
   "cell_type": "code",
   "execution_count": null,
   "metadata": {
    "collapsed": true
   },
   "outputs": [],
   "source": [
    "path = '/Volumes/MEA_DATA_2/102016_MEAC/numpy_neurons/combinedtimestamps/beforestim_timestamps/'\n",
    "\n",
    "path2 = '/Volumes/MEA_DATA_2/102016_MEAC/numpy_neurons/combinedtimestamps/lombscargletest/'\n",
    "if os.path.isdir(path2) == False:\n",
    "    os.mkdir(path2)\n",
    "\n",
    "timestamps = os.listdir(path)\n",
    "timestamps = np.sort(timestamps)"
   ]
  },
  {
   "cell_type": "code",
   "execution_count": null,
   "metadata": {
    "collapsed": false
   },
   "outputs": [],
   "source": [
    "savepower = []\n",
    "savepowerfreq = []\n",
    "\n",
    "for n in range(len(timestamps)):\n",
    "\n",
    "    neuron = np.load(path+timestamps[n])\n",
    "    neuron = np.sort(neuron)\n",
    "\n",
    "    totaltime = neuron[-1]-neuron[0]\n",
    "    bins = totaltime/1800\n",
    "\n",
    "    counts, times = np.histogram(neuron, int(bins))\n",
    "\n",
    "    t = np.linspace(0,int(bins)/2,len(times)-1)\n",
    "    f = np.float_(counts)/1800\n",
    "    \n",
    "    if len(t) != len(f):\n",
    "        print n\n",
    "        continue\n",
    "    else:\n",
    "        power_in_freq = LombScargle(t,f).power(np.linspace(0.01,1.0,1000))\n",
    "        freq = np.linspace(0.01,1.0,1000)\n",
    "\n",
    "        plt.close()\n",
    "        plt.plot(freq[:200], power_in_freq[:200])\n",
    "        plt.savefig(path2+timestamps[n][0:12])\n",
    "\n",
    "        power = max(power_in_freq[:200])\n",
    "        powerfreq = freq[np.argmax(power_in_freq[:200])]\n",
    "\n",
    "        savepower.append([str(timestamps[n]), power])\n",
    "        savepowerfreq.append([timestamps[n], powerfreq])\n",
    "\n",
    "np.savetxt(path2+'power.csv', savepower, delimiter = ',', fmt='%s')\n",
    "np.savetxt(path2+'powerfreq.csv', savepowerfreq, delimiter = ',', fmt='%s')"
   ]
  }
 ],
 "metadata": {
  "kernelspec": {
   "display_name": "Python 2",
   "language": "python",
   "name": "python2"
  },
  "language_info": {
   "codemirror_mode": {
    "name": "ipython",
    "version": 2
   },
   "file_extension": ".py",
   "mimetype": "text/x-python",
   "name": "python",
   "nbconvert_exporter": "python",
   "pygments_lexer": "ipython2",
   "version": "2.7.12"
  }
 },
 "nbformat": 4,
 "nbformat_minor": 0
}
