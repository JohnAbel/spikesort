{
 "cells": [
  {
   "cell_type": "code",
   "execution_count": 1,
   "metadata": {
    "collapsed": false
   },
   "outputs": [
    {
     "name": "stderr",
     "output_type": "stream",
     "text": [
      "/usr/local/lib/python2.7/site-packages/ipykernel/__main__.py:68: VisibleDeprecationWarning: using a non-integer number instead of an integer will result in an error in the future\n",
      "/usr/local/lib/python2.7/site-packages/ipykernel/__main__.py:69: VisibleDeprecationWarning: using a non-integer number instead of an integer will result in an error in the future\n",
      "/usr/local/lib/python2.7/site-packages/ipykernel/__main__.py:70: VisibleDeprecationWarning: using a non-integer number instead of an integer will result in an error in the future\n",
      "/usr/local/lib/python2.7/site-packages/ipykernel/__main__.py:71: VisibleDeprecationWarning: using a non-integer number instead of an integer will result in an error in the future\n",
      "/usr/local/lib/python2.7/site-packages/ipykernel/__main__.py:72: VisibleDeprecationWarning: using a non-integer number instead of an integer will result in an error in the future\n",
      "/usr/local/lib/python2.7/site-packages/ipykernel/__main__.py:75: VisibleDeprecationWarning: using a non-integer number instead of an integer will result in an error in the future\n",
      "/usr/local/lib/python2.7/site-packages/ipykernel/__main__.py:76: VisibleDeprecationWarning: using a non-integer number instead of an integer will result in an error in the future\n",
      "/usr/local/lib/python2.7/site-packages/ipykernel/__main__.py:77: VisibleDeprecationWarning: using a non-integer number instead of an integer will result in an error in the future\n",
      "/usr/local/lib/python2.7/site-packages/ipykernel/__main__.py:78: VisibleDeprecationWarning: using a non-integer number instead of an integer will result in an error in the future\n",
      "/usr/local/lib/python2.7/site-packages/ipykernel/__main__.py:79: VisibleDeprecationWarning: using a non-integer number instead of an integer will result in an error in the future\n",
      "/usr/local/lib/python2.7/site-packages/ipykernel/__main__.py:188: VisibleDeprecationWarning: using a non-integer number instead of an integer will result in an error in the future\n",
      "/usr/local/lib/python2.7/site-packages/ipykernel/__main__.py:191: VisibleDeprecationWarning: using a non-integer number instead of an integer will result in an error in the future\n",
      "/usr/local/lib/python2.7/site-packages/ipykernel/__main__.py:224: VisibleDeprecationWarning: using a non-integer number instead of an integer will result in an error in the future\n",
      "/usr/local/lib/python2.7/site-packages/ipykernel/__main__.py:115: VisibleDeprecationWarning: using a non-integer number instead of an integer will result in an error in the future\n",
      "/usr/local/lib/python2.7/site-packages/ipykernel/__main__.py:116: VisibleDeprecationWarning: using a non-integer number instead of an integer will result in an error in the future\n",
      "/usr/local/lib/python2.7/site-packages/ipykernel/__main__.py:117: VisibleDeprecationWarning: using a non-integer number instead of an integer will result in an error in the future\n"
     ]
    },
    {
     "ename": "IndexError",
     "evalue": "index 261 is out of bounds for axis 0 with size 261",
     "output_type": "error",
     "traceback": [
      "\u001b[0;31m---------------------------------------------------------------------------\u001b[0m",
      "\u001b[0;31mIndexError\u001b[0m                                Traceback (most recent call last)",
      "\u001b[0;32m<ipython-input-1-3828385d9b64>\u001b[0m in \u001b[0;36m<module>\u001b[0;34m()\u001b[0m\n\u001b[1;32m    186\u001b[0m \u001b[0;34m\u001b[0m\u001b[0m\n\u001b[1;32m    187\u001b[0m             \u001b[0;32mfor\u001b[0m \u001b[0mj\u001b[0m \u001b[0;32min\u001b[0m \u001b[0mrange\u001b[0m\u001b[0;34m(\u001b[0m\u001b[0mint\u001b[0m\u001b[0;34m(\u001b[0m\u001b[0mjtkperiod\u001b[0m\u001b[0;34m)\u001b[0m\u001b[0;34m)\u001b[0m\u001b[0;34m:\u001b[0m\u001b[0;34m\u001b[0m\u001b[0m\n\u001b[0;32m--> 188\u001b[0;31m                 \u001b[0;32mif\u001b[0m \u001b[0mnp\u001b[0m\u001b[0;34m.\u001b[0m\u001b[0mfloat\u001b[0m\u001b[0;34m(\u001b[0m\u001b[0;34m(\u001b[0m\u001b[0mcounts\u001b[0m\u001b[0;34m[\u001b[0m\u001b[0mj\u001b[0m\u001b[0;34m+\u001b[0m\u001b[0mday1start\u001b[0m\u001b[0;34m-\u001b[0m\u001b[0;36m1\u001b[0m\u001b[0;34m]\u001b[0m\u001b[0;34m)\u001b[0m\u001b[0;34m)\u001b[0m \u001b[0;34m>\u001b[0m \u001b[0mday1_fraction\u001b[0m\u001b[0;34m:\u001b[0m\u001b[0;34m\u001b[0m\u001b[0m\n\u001b[0m\u001b[1;32m    189\u001b[0m                     \u001b[0malpha\u001b[0m \u001b[0;34m=\u001b[0m \u001b[0mnp\u001b[0m\u001b[0;34m.\u001b[0m\u001b[0mappend\u001b[0m\u001b[0;34m(\u001b[0m\u001b[0malpha\u001b[0m\u001b[0;34m,\u001b[0m \u001b[0;36m1\u001b[0m\u001b[0;34m)\u001b[0m\u001b[0;34m\u001b[0m\u001b[0m\n\u001b[1;32m    190\u001b[0m                 \u001b[0;32mif\u001b[0m \u001b[0mday2max\u001b[0m \u001b[0;34m!=\u001b[0m \u001b[0;34m'NaN'\u001b[0m\u001b[0;34m:\u001b[0m\u001b[0;34m\u001b[0m\u001b[0m\n",
      "\u001b[0;31mIndexError\u001b[0m: index 261 is out of bounds for axis 0 with size 261"
     ]
    }
   ],
   "source": [
    "\n",
    "# coding: utf-8\n",
    "\n",
    "import os\n",
    "import numpy as np\n",
    "import matplotlib.pyplot as plt\n",
    "import csv\n",
    "\n",
    "MEA = '102016_MEAC'\n",
    "\n",
    "pathtimestamps = '/Volumes/MEA_DATA_2/102016_MEAC/numpy_neurons/combinedtimestamps/beforestim_timestamps/Circadian2day/'\n",
    "timestamps = os.listdir(pathtimestamps) # lists the directory containing all the timestamps from that MEA\n",
    "timestamps = np.sort(timestamps) # so that folder ends up at the end of the list\n",
    "\n",
    "pathtosave = '/Volumes/MEA_DATA_2/102016_MEAC/numpy_neurons/combinedtimestamps/beforestim_timestamps/2day_results/'\n",
    "\n",
    "if os.path.isdir(pathtosave) == False:\n",
    "    os.mkdir(pathtosave)\n",
    "\n",
    "for i in range(len(timestamps)):\n",
    "    if timestamps[i][0:11] == 'PeriodPhase':\n",
    "        periodphase = np.genfromtxt(pathtimestamps+timestamps[i], delimiter = ',')\n",
    "\n",
    "\n",
    "#Calculate Maximums and Print out max and graphs\n",
    "\n",
    "p = 0\n",
    "maxvalue = []\n",
    "minvalue = []\n",
    "firingvalues = []\n",
    "alphavalues = []\n",
    "\n",
    "for i in range(len(timestamps)):\n",
    "    if timestamps[i][-3:] == 'npy':\n",
    "        pathfile = pathtimestamps + timestamps[i]\n",
    "        neuron = np.load(pathfile)\n",
    "        neuron = np.sort(neuron)\n",
    "        \n",
    "        length = neuron[-1]-neuron[0]\n",
    "        counts, bins = np.histogram(neuron, int(length)/600) # calculates histogram in 10min bins\n",
    "        counts = np.float_(counts)/600\n",
    "        if p == 10000:\n",
    "            jtkphase = periodphase[i-1,1]*6\n",
    "            jtkperiod = periodphase[i-1,0]*6\n",
    "        else:    \n",
    "            jtkphase = periodphase[i,1]*6\n",
    "            jtkperiod = periodphase[i,0]*6\n",
    "        \n",
    "        startpoint = jtkphase - (jtkperiod/2)\n",
    "        if np.isnan(jtkphase):\n",
    "            print 'ERROR ' + timestamps[i]\n",
    "            continue\n",
    "\n",
    "        if len(counts) <= jtkperiod:\n",
    "            print 'ERROR '+timestamps[i]\n",
    "            continue\n",
    "\n",
    "        if startpoint > 0:\n",
    "            startpoint = startpoint\n",
    "        else:\n",
    "            startpoint = jtkphase + (jtkperiod/2)\n",
    "\n",
    "        day1start = startpoint\n",
    "        day2start = startpoint + jtkperiod\n",
    "        day3start = day2start + jtkperiod\n",
    "        day3end = day3start + jtkperiod\n",
    "\n",
    "        day1max = max(counts[day1start:day2start])\n",
    "        day1maxtime = np.argmax(counts[day1start:day2start])\n",
    "        day1min = min(counts[day1start:day2start])\n",
    "        day1mintime = np.argmin(counts[day1start:day2start])\n",
    "        firingtotalday1 = np.sum(counts[day1start:day2start]*600)\n",
    "\n",
    "        if day3start < len(counts):\n",
    "            day2max = max(counts[day2start:day3start])\n",
    "            day2maxtime = np.argmax(counts[day2start:day3start])\n",
    "            day2min = min(counts[day2start:day3start])\n",
    "            day2mintime = np.argmin(counts[day2start:day3start])\n",
    "            firingtotalday2 = np.sum(counts[day2start:day3start]*600)\n",
    "            aftermax1 = 'NaN'\n",
    "            aftermin = 'NaN'\n",
    "        elif len(counts) - day2start > jtkperiod/2:\n",
    "            day2max = 'NaN'\n",
    "            day2min = 'NaN'\n",
    "            aftermax1 = max(counts[day2start:len(counts)])\n",
    "            aftermin = min(counts[day2start:len(counts)])\n",
    "            aftermax1time = np.argmax(counts[day2start:len(counts)])\n",
    "        else:\n",
    "            day2max = 'NaN'\n",
    "            day2min = 'NaN'\n",
    "            aftermax1 = 'NaN'\n",
    "            aftermin = 'NaN'\n",
    "\n",
    "        if day3end < len(counts):\n",
    "            day3max = max(counts[day3start:day3end])\n",
    "            day3maxtime = np.argmax(counts[day3start:day3end])\n",
    "            day3min = min(counts[day3start:day3end])\n",
    "            day3mintime = np.argmin(counts[day3start:day3end])\n",
    "            firingtotalday3 = np.sum(counts[day3start:day3end]*600)\n",
    "            aftermax2 = 'NaN'\n",
    "            aftermin = 'NaN'\n",
    "        elif len(counts) - day3start > jtkperiod/2:\n",
    "            aftermax2 = max(counts[day3start:len(counts)])\n",
    "            aftermin = min(counts[day2start:len(counts)])\n",
    "            aftermax2time = np.argmax(counts[day3start:len(counts)])\n",
    "            day3max = 'NaN'\n",
    "            day3min = 'NaN'\n",
    "        else:\n",
    "            day3max = 'NaN'\n",
    "            day3min = 'NaN'\n",
    "            aftermax2 = 'NaN'\n",
    "            aftermin = 'NaN'\n",
    "\n",
    "        if day1start > jtkperiod/2:\n",
    "            beforemax = max(counts[0:day1start])\n",
    "            beforemin = min(counts[0:day1start])\n",
    "            beforemaxtime = np.argmax(counts[0:day1start])\n",
    "        else:\n",
    "            beforemax = 'NaN'\n",
    "            beforemin = 'NaN'\n",
    "\n",
    "        maxall = [timestamps[i], day1max]\n",
    "        if day2max != 'NaN':\n",
    "            maxall.append(day2max)\n",
    "        else:\n",
    "            maxall.append(' ')\n",
    "        if day3max != 'NaN':\n",
    "            maxall.append(day3max)\n",
    "        else: \n",
    "            maxall.append(' ')\n",
    "        if beforemax != 'NaN':\n",
    "            maxall.append(beforemax)\n",
    "        else:\n",
    "            maxall.append(' ')\n",
    "        if aftermax1 != 'NaN':\n",
    "            maxall.append(aftermax1)\n",
    "        else:\n",
    "            maxall.append(' ')\n",
    "        if aftermax2 != 'NaN':\n",
    "            maxall.append(aftermax2)\n",
    "        else:\n",
    "            maxall.append(' ')\n",
    "        \n",
    "        maxvalue.append(maxall)\n",
    "        #print maxall\n",
    "        \n",
    "        minall = [timestamps[i], day1min]\n",
    "        if day2min != 'NaN':\n",
    "            minall.append(day2min)\n",
    "        else:\n",
    "        \tminall.append(' ')\n",
    "        if day3min != 'NaN':\n",
    "            minall.append(day3min)\n",
    "        else:\n",
    "        \tminall.append(' ')\n",
    "        \n",
    "        minvalue.append(minall)\n",
    "        firingall = [timestamps[i], firingtotalday1]\n",
    "\n",
    "        if day2min != 'NaN':\n",
    "            firingall.append(firingtotalday2)\n",
    "        else:\n",
    "        \tfiringall.append(' ')\n",
    "        if day3min != 'NaN':\n",
    "            firingall.append(firingtotalday3)\n",
    "        else:\n",
    "        \tfiringall.append(' ')\n",
    "\n",
    "        firingvalues.append(firingall)\n",
    "        \n",
    "        for x in range(10):\n",
    "            fraction = np.float_(x+1)/np.float_(10)\n",
    "            day1_fraction = (fraction*(day1max-day1min))+day1min\n",
    "            if day2max != 'NaN':\n",
    "                day2_fraction = (fraction*(day2max-day2min))+day2min\n",
    "            else:\n",
    "                day2_fraction = ' '\n",
    "            if day3max != 'NaN':  \n",
    "                day3_fraction = (fraction*(day3max-day3min))+day3min\n",
    "            else:\n",
    "                day3_fraction = ' '\n",
    "\n",
    "            alpha = []\n",
    "            alpha2 = []\n",
    "            alpha3 = []\n",
    "\n",
    "            for j in range(int(jtkperiod)):\n",
    "                if np.float((counts[j+day1start-1])) > day1_fraction:\n",
    "                    alpha = np.append(alpha, 1)\n",
    "                if day2max != 'NaN':\n",
    "                    if np.float((counts[j+day2start-1])) > day2_fraction:\n",
    "                        alpha2 = np.append(alpha2,1)\n",
    "                if day3max != 'NaN':\n",
    "                    if np.float((counts[j+day3start-1])) > day3_fraction:\n",
    "                        alpha3 = np.append(alpha3,1)\n",
    "\n",
    "            sumalpha1 = np.sum(alpha)\n",
    "            sumalpha1h = np.float_(sumalpha1)/6\n",
    "            if day2max != 'NaN':\n",
    "                sumalpha2 = np.sum(alpha2)\n",
    "                sumalpha2h = np.float_(sumalpha2)/6\n",
    "            else:\n",
    "                sumalpha2 = ' '\n",
    "                sumalpha2h = ' '\n",
    "\n",
    "            if day3max != 'NaN':\n",
    "                sumalpha3 = np.sum(alpha3)\n",
    "                sumalpha3h = np.float_(sumalpha3)/6\n",
    "            else:\n",
    "                sumalpha3 = ' '\n",
    "                sumalpha3h = ' '\n",
    "\n",
    "            sumalphatotal = [timestamps[i], fraction, sumalpha1h, sumalpha2h, sumalpha3h]\n",
    "            alphavalues.append(sumalphatotal)\n",
    "        \n",
    "        \n",
    "        #create rate histogram plot demarcating circadian days, max, min\n",
    "        plt.close()\n",
    "        plt.figure()\n",
    "        plt.plot(counts)\n",
    "        ax = plt.gca()\n",
    "        ax.set_xticks([day1start,day2start,day3start,day3end], minor=False)\n",
    "        ax.xaxis.grid(True, which='major', linestyle = '--')\n",
    "        ax.plot([jtkphase], [counts[jtkphase]], '*', color = 'red', markersize = 20)\n",
    "        ax.annotate('MaxDay1', xy = (day1maxtime+day1start, day1max), xytext=(day1maxtime+day1start, day1max+.25), arrowprops=dict(facecolor='black', width =1, headwidth = 5, shrink =0.01))\n",
    "        ax.annotate('MinDay1', xy = (day1mintime+day1start, day1min), xytext=(day1mintime+day1start, day1min+.25), arrowprops=dict(facecolor='black', width =1, shrink = .01, headwidth = 5))\n",
    "        \n",
    "        if day2max != 'NaN':\n",
    "            ax.annotate('MaxDay2', xy = (day2maxtime+day2start, day2max), xytext=(day2maxtime+day2start, day2max+.25), arrowprops=dict(facecolor='black', width =1, headwidth = 5, shrink =0.01))\n",
    "            ax.annotate('MinDay2', xy = (day2mintime+day2start, day2min), xytext=(day2mintime+day2start, day2min+.25), arrowprops=dict(facecolor='black', width =1, headwidth = 5, shrink =0.01))\n",
    "        if day3max != 'NaN':\n",
    "            ax.annotate('MaxDay3', xy = (day3maxtime+day3start, day3max), xytext=(day3maxtime+day3start, day3max+.25), arrowprops=dict(facecolor='black', width =1, headwidth = 5, shrink =0.01))\n",
    "            ax.annotate('MinDay3', xy = (day3mintime+day3start, day3min), xytext=(day3mintime+day3start, day3min+.25), arrowprops=dict(facecolor='black', width =1, headwidth = 5, shrink =0.01))\n",
    "        if beforemax != 'NaN':\n",
    "            ax.annotate('BeforeMax', xy = (beforemaxtime, beforemax), xytext=(beforemaxtime, beforemax+.25), arrowprops=dict(facecolor='black', width = 1, headwidth = 5, shrink =0.01))\n",
    "        if aftermax1 != 'NaN':\n",
    "            ax.annotate('AfterMax', xy = (aftermax1time+day2start, aftermax1), xytext=(aftermax1time+day2start, aftermax1+.25), arrowprops = dict(facecolor='black', width =1, headwidth = 5, shrink = 0.01))\n",
    "        if aftermax2 != 'NaN':\n",
    "            ax.annotate('AfterMax', xy = (aftermax2time+day3start, aftermax2), xytext=(aftermax2time+day3start, aftermax2+.25), arrowprops=dict(facecolor='black',width=1,headwidth=5,shrink=0.01))\n",
    "        \n",
    "        plt.savefig(pathtosave+timestamps[i][0:12])\n",
    "    else:\n",
    "        p = 10000\n",
    "        continue\n",
    "        \n",
    "np.savetxt(pathtosave+'maxvalues.csv', maxvalue, delimiter = ',', fmt='%s')\n",
    "np.savetxt(pathtosave+'minvalues.csv', minvalue, delimiter = ',', fmt='%s')\n",
    "np.savetxt(pathtosave+'firingvalues.csv', firingvalues, delimiter = ',', fmt='%s')\n",
    "np.savetxt(pathtosave+'alphavalues.csv', alphavalues, delimiter = ',', fmt='%s')\n",
    "\n",
    "print 'finished!'\n",
    "\n"
   ]
  },
  {
   "cell_type": "code",
   "execution_count": null,
   "metadata": {
    "collapsed": false
   },
   "outputs": [],
   "source": [
    "periodphase[4-1,0]"
   ]
  },
  {
   "cell_type": "code",
   "execution_count": null,
   "metadata": {
    "collapsed": false
   },
   "outputs": [],
   "source": [
    "neuron = np.load(pathtimestamps+timestamps[8])"
   ]
  },
  {
   "cell_type": "code",
   "execution_count": null,
   "metadata": {
    "collapsed": false
   },
   "outputs": [],
   "source": [
    "neuron[0]"
   ]
  },
  {
   "cell_type": "code",
   "execution_count": null,
   "metadata": {
    "collapsed": true
   },
   "outputs": [],
   "source": [
    "counts, bins = np.histogram(neuron, int(neuron[-1]/600)) # calculates histogram in 10min bins\n"
   ]
  },
  {
   "cell_type": "code",
   "execution_count": null,
   "metadata": {
    "collapsed": false
   },
   "outputs": [],
   "source": [
    "plt.plot(counts)\n",
    "plt.show()"
   ]
  },
  {
   "cell_type": "code",
   "execution_count": null,
   "metadata": {
    "collapsed": false
   },
   "outputs": [],
   "source": [
    "int(jtkperiod)"
   ]
  },
  {
   "cell_type": "code",
   "execution_count": null,
   "metadata": {
    "collapsed": false
   },
   "outputs": [],
   "source": [
    "j"
   ]
  },
  {
   "cell_type": "code",
   "execution_count": null,
   "metadata": {
    "collapsed": false
   },
   "outputs": [],
   "source": [
    "day2start"
   ]
  },
  {
   "cell_type": "code",
   "execution_count": null,
   "metadata": {
    "collapsed": false
   },
   "outputs": [],
   "source": [
    "day1start"
   ]
  },
  {
   "cell_type": "code",
   "execution_count": null,
   "metadata": {
    "collapsed": false
   },
   "outputs": [],
   "source": [
    "counts[day1start:day2start]"
   ]
  },
  {
   "cell_type": "code",
   "execution_count": null,
   "metadata": {
    "collapsed": false
   },
   "outputs": [],
   "source": [
    "counts[309]"
   ]
  },
  {
   "cell_type": "code",
   "execution_count": null,
   "metadata": {
    "collapsed": true
   },
   "outputs": [],
   "source": []
  }
 ],
 "metadata": {
  "kernelspec": {
   "display_name": "Python 2",
   "language": "python",
   "name": "python2"
  },
  "language_info": {
   "codemirror_mode": {
    "name": "ipython",
    "version": 2
   },
   "file_extension": ".py",
   "mimetype": "text/x-python",
   "name": "python",
   "nbconvert_exporter": "python",
   "pygments_lexer": "ipython2",
   "version": "2.7.12"
  }
 },
 "nbformat": 4,
 "nbformat_minor": 0
}
