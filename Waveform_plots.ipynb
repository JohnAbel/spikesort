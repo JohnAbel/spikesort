{
 "cells": [
  {
   "cell_type": "code",
   "execution_count": 1,
   "metadata": {
    "collapsed": false
   },
   "outputs": [],
   "source": [
    "#import csv files with waveforms: change # as needed for electrode\n",
    "\n",
    "electrode = 24\n",
    "    \n",
    "import numpy as np\n",
    "import matplotlib.pyplot as plt\n",
    "import os\n",
    "\n",
    "MEA = '042016_MEAA'\n",
    "\n",
    "path2 = '/Volumes/MEA_DATA_2/'+MEA+'/stimulation/sorting_results/plots/ %s_waveform.csv' % electrode\n",
    "path = '/Users/Tolkien/Box Sync/Mazuski_VIPChR2OpticalTagging_MEADATA/'+MEA+'_sorting_results/plots/ %s_waveform.csv' % electrode\n",
    "\n",
    "if os.path.isfile(path) == True:\n",
    "    beforestim = np.genfromtxt(path, delimiter = ',')\n",
    "else:\n",
    "    beforestim = []\n",
    "    print \"Beforestim file does not exist\"\n",
    "    \n",
    "if os.path.isfile(path2) == True:\n",
    "    stimulation = np.genfromtxt(path2, delimiter = ',')\n",
    "else:\n",
    "    stimulation = []\n",
    "    print \"Stimulation file does not exist\"\n",
    "    \n",
    "xvalue = np.arange(1,41,1)\n",
    "waveformbefore = len(beforestim)\n",
    "waveformstim = len(stimulation)\n",
    "\n",
    "plt.subplot(3,1,1)\n",
    "color_idx = np.linspace(0, 1, len(beforestim))\n",
    "if waveformbefore == 40:\n",
    "    plt.plot(xvalue,beforestim)\n",
    "else:\n",
    "    for i in range(len(beforestim)):\n",
    "        color = plt.cm.spring\n",
    "        plt.plot(xvalue, beforestim[i], color = plt.cm.prism(color_idx[i]))\n",
    "        \n",
    "plt.title('Beforestim Waveforms')\n",
    "plt.legend(np.arange(waveformbefore), fontsize = 'x-small')#, waveformstim, fonsize = 'x-small')\n",
    "axes = plt.gca()\n",
    "ylim = axes.get_ylim()\n",
    "\n",
    "plt.subplot(3,1,2)\n",
    "color_idx2 = np.linspace(0,1,len(stimulation))\n",
    "if waveformstim == 40:\n",
    "    plt.plot(xvalue,stimulation)\n",
    "else:\n",
    "    \n",
    "    for i in range(len(stimulation)):\n",
    "        plt.plot(xvalue, stimulation[i], color = plt.cm.jet(color_idx2[i]))\n",
    "plt.title('Stimulation Waveforms')\n",
    "axes = plt.gca()\n",
    "axes.set_ylim(ylim)\n",
    "\n",
    "plt.subplot(3,1,3)\n",
    "\n",
    "\n",
    "if os.path.isfile(path) == True and os.path.isfile(path2) == True:\n",
    "    if len(stimulation) == 40 and len(beforestim) == 40:\n",
    "        stimulationvalue = 1\n",
    "        beforestimvalue = 1\n",
    "        \n",
    "    elif len(stimulation) == 40 and len(beforestim) != 40:\n",
    "        beforestimvalue = len(beforestim)\n",
    "        stimulationvalue = 1\n",
    "    elif len(stimulation) != 40 and len(beforestim) == 40:\n",
    "        beforestimvalue = 1\n",
    "        stimulationvalue = len(stimulation)\n",
    "    else:\n",
    "        beforestimvalue = len(beforestim)\n",
    "        stimulationvalue = len(stimulation)\n",
    "    \n",
    "    color_idx3 = np.linspace(0,1,beforestimvalue+stimulationvalue)\n",
    "    \n",
    "    for i in range(beforestimvalue+stimulationvalue):\n",
    "        if i < beforestimvalue and waveformbefore != 40:\n",
    "            plt.plot(xvalue, beforestim[i], color = plt.cm.jet(color_idx3[i]), lw=2)\n",
    "        elif i < beforestimvalue and waveformbefore == 40:\n",
    "            plt.plot(xvalue, beforestim, color = plt.cm.jet(color_idx3[i]), lw =2)\n",
    "        elif i >= beforestimvalue and len(stimulation) == 40:\n",
    "            plt.plot(xvalue, stimulation, '--', color = plt.cm.jet(color_idx3[i]), lw=2)\n",
    "        else:\n",
    "            plt.plot(xvalue, stimulation[i-beforestimvalue], '--', color = plt.cm.jet(color_idx3[i]), lw=2)\n",
    "                \n",
    "                \n",
    "    plt.title('Combined')\n",
    "    waveformbefore2 = np.arange(0,beforestimvalue,1)\n",
    "    waveformstim2 = np.arange(0,stimulationvalue,1)\n",
    "    waveformlabel = np.append([waveformbefore2], [waveformstim2])\n",
    "    plt.legend(waveformlabel, fontsize = 'x-small')#, waveformstim, fonsize = 'x-small')\n",
    "    \n",
    "plt.show()\n",
    "        \n"
   ]
  },
  {
   "cell_type": "code",
   "execution_count": null,
   "metadata": {
    "collapsed": false
   },
   "outputs": [],
   "source": [
    "#stimulationvalue = 0\n",
    "#beforestimvalue = len(beforestim)\n",
    "#waveformlabel = np.arange(0,beforestimvalue,1)\n",
    "skipneurons = [5,6,7,8,9,2,3]    \n",
    "plt.close()\n",
    "\n",
    "for i in range(beforestimvalue+stimulationvalue):\n",
    "    if i not in skipneurons:\n",
    "        if i < beforestimvalue and waveformbefore != 40:\n",
    "            plt.plot(xvalue, beforestim[i], color = plt.cm.jet(color_idx3[i]), lw=2)\n",
    "        elif i < beforestimvalue and waveformbefore == 40:\n",
    "            plt.plot(xvalue, beforestim, color = plt.cm.jet(color_idx3[i]), lw=2)\n",
    "        elif i >= beforestimvalue and len(stimulation) == 40:\n",
    "            plt.plot(xvalue, stimulation, '--', color = plt.cm.jet(color_idx3[i]), lw=2)\n",
    "        else:\n",
    "            plt.plot(xvalue, stimulation[i-beforestimvalue], '--', color = plt.cm.jet(color_idx3[i]), lw=2)\n",
    "    plt.title('Combined')\n",
    "    waveformlabel2 = np.delete(waveformlabel, skipneurons)\n",
    "    plt.legend(waveformlabel2, fontsize = 'small')\n",
    "\n",
    "plt.savefig('/Users/Tolkien/Desktop/waveforms.tif')\n",
    "plt.show()"
   ]
  },
  {
   "cell_type": "code",
   "execution_count": 97,
   "metadata": {
    "collapsed": false
   },
   "outputs": [
    {
     "data": {
      "text/plain": [
       "40"
      ]
     },
     "execution_count": 97,
     "metadata": {},
     "output_type": "execute_result"
    }
   ],
   "source": [
    "len(stimulation)"
   ]
  },
  {
   "cell_type": "code",
   "execution_count": null,
   "metadata": {
    "collapsed": true
   },
   "outputs": [],
   "source": []
  }
 ],
 "metadata": {
  "kernelspec": {
   "display_name": "Python 2",
   "language": "python",
   "name": "python2"
  },
  "language_info": {
   "codemirror_mode": {
    "name": "ipython",
    "version": 2
   },
   "file_extension": ".py",
   "mimetype": "text/x-python",
   "name": "python",
   "nbconvert_exporter": "python",
   "pygments_lexer": "ipython2",
   "version": "2.7.12"
  }
 },
 "nbformat": 4,
 "nbformat_minor": 0
}
