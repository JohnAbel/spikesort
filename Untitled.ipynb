{
 "cells": [
  {
   "cell_type": "code",
   "execution_count": 3,
   "metadata": {
    "collapsed": false
   },
   "outputs": [],
   "source": [
    "import numpy as np\n",
    "import os\n",
    "import matplotlib.pyplot as plt\n",
    "\n",
    "pathtimestamps = '/Volumes/MEA_DATA_2/102016_MEAC/numpy_neurons/combinedtimestamps/beforestim_timestamps/2dayrecording/'\n",
    "\n",
    "path2 = '/Volumes/MEA_DATA_2/102016_MEAC/numpy_neurons/combinedtimestamps/beforestim_ratehistograms/2day'\n",
    "if os.path.isdir(path2) == False:\n",
    "    os.mkdir(path2)\n",
    "\n",
    "timestamps = os.listdir(pathtimestamps)\n",
    "timestamps = np.sort(timestamps)\n",
    "\n",
    "for i in range(len(timestamps)):\n",
    "    if timestamps[i][-3:] == 'npy':\n",
    "        pathfile = pathtimestamps+timestamps[i]\n",
    "        \n",
    "        neuron = np.load(pathfile)\n",
    "        plt.close()\n",
    "        plt.plot(neuron)\n",
    "        plt.title(timestamps[i])\n",
    "        plt.savefig(path2+timestamps[i][0:12])\n",
    "        \n",
    "        "
   ]
  },
  {
   "cell_type": "code",
   "execution_count": 10,
   "metadata": {
    "collapsed": false
   },
   "outputs": [],
   "source": [
    "import os\n",
    "import numpy as np\n",
    "\n",
    "pathtimestamps = '/Volumes/MEA_DATA_2/102016_MEAC/numpy_neurons/combinedtimestamps/beforestim_timestamps/3dayrecording/'\n",
    "\n",
    "timestamps = os.listdir(pathtimestamps)"
   ]
  },
  {
   "cell_type": "code",
   "execution_count": 11,
   "metadata": {
    "collapsed": false
   },
   "outputs": [],
   "source": [
    "neuron = np.load(pathtimestamps+timestamps[2])"
   ]
  },
  {
   "cell_type": "code",
   "execution_count": 12,
   "metadata": {
    "collapsed": false
   },
   "outputs": [
    {
     "data": {
      "text/plain": [
       "array([ 0.21111111,  0.49222222,  0.44388889,  0.51388889,  0.59611111,\n",
       "        0.57888889,  0.75833333,  0.93277778,  1.01111111,  0.98111111,\n",
       "        0.94388889,  0.86722222,  1.045     ,  0.99166667,  1.01666667,\n",
       "        0.97277778,  0.98222222,  0.83055556,  0.87222222,  0.77277778,\n",
       "        1.13111111,  1.85222222,  2.695     ,  2.97444444,  2.99388889,\n",
       "        3.04888889,  2.79555556,  3.065     ,  2.68666667,  2.14166667,\n",
       "        2.50166667,  1.81833333,  0.93944444,  0.96166667,  0.94611111,\n",
       "        1.17222222,  1.50277778,  1.56222222,  1.57722222,  1.29      ,\n",
       "        0.99888889,  1.10611111,  1.43444444,  1.28555556,  1.34166667,\n",
       "        1.25277778,  0.84888889,  0.58666667,  0.37555556,  0.26722222,\n",
       "        0.24666667,  0.24722222,  0.24555556,  0.21666667,  0.23388889,\n",
       "        0.265     ,  0.24944444,  0.27611111,  0.38      ,  0.51944444,\n",
       "        0.39888889,  0.37277778,  0.57166667,  0.79944444,  0.83555556,\n",
       "        0.66777778,  0.61777778,  0.82277778,  1.22277778,  1.67111111,\n",
       "        1.96111111,  2.56111111,  2.76833333,  2.94611111,  2.98888889,\n",
       "        2.85111111,  2.84222222,  2.67777778,  2.29166667,  2.24388889,\n",
       "        2.38555556,  2.315     ,  2.26444444,  2.34055556,  2.06555556,\n",
       "        2.04555556,  1.58611111,  1.49722222,  1.28944444,  1.18777778,\n",
       "        1.45388889,  1.785     ,  1.83555556,  2.03944444,  1.71722222,\n",
       "        1.61611111,  0.95888889,  0.26388889,  0.12888889,  0.15166667,\n",
       "        0.14888889,  0.155     ,  0.09277778,  0.08444444,  0.08277778,\n",
       "        0.13277778,  0.27166667,  0.46611111,  0.98277778,  1.53777778,\n",
       "        1.85166667,  1.94777778,  1.89722222,  2.30111111,  2.47444444,\n",
       "        2.46777778,  2.585     ,  2.93277778,  2.955     ,  2.76722222,\n",
       "        2.67666667,  1.98666667,  1.65111111,  1.06611111,  1.16222222,\n",
       "        1.29722222,  1.30222222,  0.74277778,  0.33666667,  0.15722222,\n",
       "        0.09111111,  0.04833333,  0.04111111,  0.04333333,  0.025     ,\n",
       "        0.04111111,  0.05111111,  0.04555556,  0.065     ,  0.06833333,\n",
       "        0.07166667,  0.06666667])"
      ]
     },
     "execution_count": 12,
     "metadata": {},
     "output_type": "execute_result"
    }
   ],
   "source": [
    "neuron"
   ]
  },
  {
   "cell_type": "code",
   "execution_count": null,
   "metadata": {
    "collapsed": true
   },
   "outputs": [],
   "source": []
  }
 ],
 "metadata": {
  "kernelspec": {
   "display_name": "Python 2",
   "language": "python",
   "name": "python2"
  },
  "language_info": {
   "codemirror_mode": {
    "name": "ipython",
    "version": 2
   },
   "file_extension": ".py",
   "mimetype": "text/x-python",
   "name": "python",
   "nbconvert_exporter": "python",
   "pygments_lexer": "ipython2",
   "version": "2.7.12"
  }
 },
 "nbformat": 4,
 "nbformat_minor": 0
}
