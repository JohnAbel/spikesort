{
 "cells": [
  {
   "cell_type": "code",
   "execution_count": 5,
   "metadata": {
    "collapsed": false
   },
   "outputs": [],
   "source": [
    "# imports necessary modules to run the script\n",
    "import numpy as np\n",
    "import matplotlib.pyplot as plt\n",
    "import os \n",
    "import csv\n",
    "MEA = '042016_MEAA'\n",
    "\n",
    "# import files 1 by 1 (csv timestamps)\n",
    "pathtimestamps = '/Users/Tolkien/Box Sync/Mazuski_VIPChR2OpticalTagging_MEADATA/'+MEA+'_sorting_results/goodneurons/' # change the path depending on MEA\n",
    "\n",
    "timestamps = os.listdir(pathtimestamps) # lists the directory containing all the timestamps from that MEA\n",
    "timestamps = np.sort(timestamps)"
   ]
  },
  {
   "cell_type": "code",
   "execution_count": 6,
   "metadata": {
    "collapsed": false
   },
   "outputs": [
    {
     "name": "stdout",
     "output_type": "stream",
     "text": [
      "finished!\n"
     ]
    }
   ],
   "source": [
    "MEAname = MEA\n",
    "jtkcyclefile = []\n",
    "pathfile = pathtimestamps + timestamps[1]\n",
    "neuron = np.genfromtxt(pathfile, delimiter = ',')\n",
    "neuron = np.sort(neuron)\n",
    "recordinghours = (int(neuron[-1])/3600)-1\n",
    "bins = np.arange(0,recordinghours,1)\n",
    "bins = bins.tolist()\n",
    "          \n",
    "bins.insert(0,MEAname)\n",
    "recordingseconds = bins[-1]*3600\n",
    "bins.remove(bins[-1])\n",
    "bins.remove(bins[-1])\n",
    "\n",
    "with open(MEAname+'.csv', 'w') as csvfile:\n",
    "    jtkcyclefile = csv.writer(csvfile)\n",
    "    jtkcyclefile.writerow(bins)\n",
    "    timestamps = np.sort(timestamps)\n",
    "    for i in range(len(timestamps)-1):\n",
    "        if timestamps[i] == '.DS_Store':\n",
    "            continue\n",
    "        else:\n",
    "            counts = []\n",
    "            pathfile = pathtimestamps + timestamps[i]\n",
    "            neuron = np.genfromtxt(pathfile, delimiter = ',')\n",
    "            neuron = np.sort(neuron)\n",
    "            histobin = range(0,int(recordingseconds),3600)\n",
    "            counts, times, runs = plt.hist(neuron,histobin)\n",
    "            ratehisto = counts.tolist()\n",
    "            ratehisto.insert(0,timestamps[i])\n",
    "            jtkcyclefile.writerow(ratehisto)\n",
    "            \n",
    "print 'finished!'"
   ]
  },
  {
   "cell_type": "code",
   "execution_count": null,
   "metadata": {
    "collapsed": true
   },
   "outputs": [],
   "source": []
  }
 ],
 "metadata": {
  "kernelspec": {
   "display_name": "Python 2",
   "language": "python",
   "name": "python2"
  },
  "language_info": {
   "codemirror_mode": {
    "name": "ipython",
    "version": 2
   },
   "file_extension": ".py",
   "mimetype": "text/x-python",
   "name": "python",
   "nbconvert_exporter": "python",
   "pygments_lexer": "ipython2",
   "version": "2.7.12"
  }
 },
 "nbformat": 4,
 "nbformat_minor": 0
}
