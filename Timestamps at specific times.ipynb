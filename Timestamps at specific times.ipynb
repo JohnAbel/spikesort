{
 "cells": [
  {
   "cell_type": "code",
   "execution_count": 80,
   "metadata": {
    "collapsed": false
   },
   "outputs": [],
   "source": [
    "import os\n",
    "import numpy as np\n",
    "import matplotlib.pyplot as plt\n",
    "import csv\n",
    "MEA = '/102016_MEAC'\n",
    "\n",
    "pathtimestamps = '/Users/Tolkien/Box Sync/Mazuski_VIPChR2OpticalTagging_MEADATA'+MEA+'_sorting_results/goodneurons/' # change the path depending on MEA\n",
    "\n",
    "timestamps = os.listdir(pathtimestamps) # lists the directory containing all the timestamps from that MEA\n",
    "timestamps = np.sort(timestamps) # so that folder ends up at the end of the list\n",
    "\n",
    "pathtimestamps2 = '/Users/Tolkien/Documents/Mazuski_MEAresults/JTKcycle_periodandphase'+MEA+'.csv'\n",
    "\n",
    "pathtosave = '/Users/Tolkien/Documents/Mazuski_MEAresults'+MEA\n",
    "\n",
    "#os.mkdir(pathtosave)"
   ]
  },
  {
   "cell_type": "code",
   "execution_count": 81,
   "metadata": {
    "collapsed": false
   },
   "outputs": [
    {
     "name": "stderr",
     "output_type": "stream",
     "text": [
      "/usr/local/lib/python2.7/site-packages/ipykernel/__main__.py:51: VisibleDeprecationWarning: using a non-integer number instead of an integer will result in an error in the future\n",
      "/usr/local/lib/python2.7/site-packages/ipykernel/__main__.py:52: VisibleDeprecationWarning: using a non-integer number instead of an integer will result in an error in the future\n",
      "/usr/local/lib/python2.7/site-packages/ipykernel/__main__.py:77: VisibleDeprecationWarning: using a non-integer number instead of an integer will result in an error in the future\n",
      "/usr/local/lib/python2.7/site-packages/ipykernel/__main__.py:78: VisibleDeprecationWarning: using a non-integer number instead of an integer will result in an error in the future\n"
     ]
    },
    {
     "name": "stdout",
     "output_type": "stream",
     "text": [
      "finished!\n"
     ]
    }
   ],
   "source": [
    "#Calculate Maximums and Print out max and graphs\n",
    "\n",
    "x = 0\n",
    "\n",
    "for i in range(len(timestamps)-1):\n",
    "    \n",
    "    if timestamps[i] == '.DS_Store':\n",
    "        x = 10000\n",
    "        continue\n",
    "    else:\n",
    "        pathfile = pathtimestamps + timestamps[i]\n",
    "        neuron = np.genfromtxt(pathfile, delimiter = ',') #imports specified neuron\n",
    "        neuron = np.sort(neuron)\n",
    "\n",
    "        periodphase = np.genfromtxt(pathtimestamps2, delimiter = ',') #imports period/phase values for entire MEA\n",
    "        # starts at index 1 - period is i,0 JTK cycle phase is i,1 Both are in h\n",
    "\n",
    "        # plan is to use JTK phase marker and then subtract half of the JTK period estimate\n",
    "        # if that # is negative it means that the cycle is not intact - cannot calculate values\n",
    "        # start with next cycle - in other words phase marker plus half the JTK period estimate\n",
    "\n",
    "        counts, bins = np.histogram(neuron, int(neuron[-1]/600)) # calculates histogram in 10min bins\n",
    "        counts = np.float_(counts)/600\n",
    "        if x == 10000:\n",
    "            jtkphase = periodphase[i,1]*6\n",
    "            jtkperiod = periodphase[i,0]*6\n",
    "        else:    \n",
    "            jtkphase = periodphase[i+1,1]*6\n",
    "            jtkperiod = periodphase[i+1,0]*6\n",
    "\n",
    "        startpoint = jtkphase - (jtkperiod/2)\n",
    "        if np.isnan(jtkphase):\n",
    "            print 'ERROR ' + timestamps[i]\n",
    "            continue\n",
    "\n",
    "        if len(counts) <= jtkperiod:\n",
    "            print 'ERROR '+timestamps[i]\n",
    "            continue\n",
    "\n",
    "        if startpoint > 0:\n",
    "            startpoint = startpoint\n",
    "        else:\n",
    "            startpoint = jtkphase + (jtkperiod/2)\n",
    "\n",
    "\n",
    "        day1start = startpoint\n",
    "        day2start = startpoint + jtkperiod\n",
    "        day3start = day2start + jtkperiod\n",
    "\n",
    "\n",
    "        day1max = max(counts[day1start:day2start])\n",
    "        day1maxtime = np.argmax(counts[day1start:day2start])\n",
    "        day1maxtime = day1maxtime + day1start\n",
    "\n",
    "        startISI = day1maxtime*10*60 - 1800\n",
    "        endISI = day1maxtime*10*60 + 1800\n",
    "\n",
    "        starttimestamps = day1maxtime*10*60 - 100\n",
    "        endtimestamps = day1maxtime*10*60 +100\n",
    "        timestamp = []\n",
    "\n",
    "        for j in range(len(neuron)-1):\n",
    "            if neuron[j] > starttimestamps and neuron[j] < endtimestamps:\n",
    "                timestamp.append(neuron[j]-starttimestamps)\n",
    "        np.savetxt(pathtosave+'/timestamps'+timestamps[i]+'.csv', timestamp, delimiter = ',')\n",
    "        ISI = []\n",
    "\n",
    "        for j in range(len(neuron)-1):\n",
    "            if neuron[j] > startISI and neuron[j] < endISI:\n",
    "                ISI.append(neuron[j+1]-neuron[j])\n",
    "\n",
    "        ISIhist, bins = np.histogram(ISI, 100, range=(0,1))\n",
    "\n",
    "        np.savetxt(pathtosave+'/ISI'+timestamps[i]+'.csv', ISIhist, delimiter = ',')\n",
    "        \n",
    "        if day3start < len(counts):\n",
    "            day2max = max(counts[day2start:day3start])\n",
    "            day2maxtime = np.argmax(counts[day2start:day3start])\n",
    "            day2maxtime = day2maxtime + day2start\n",
    "            \n",
    "            startISI2 = day2maxtime*10*60 - 1800\n",
    "            endISI2 = day2maxtime*10*60 + 1800\n",
    "            \n",
    "            starttimestamps2 = day2maxtime*10*60 - 100\n",
    "            endtimestamps2 = day1maxtime*10*60 + 100\n",
    "            timestamp2 = []\n",
    "            \n",
    "            for k in range(len(neuron)-1):\n",
    "                if neuron[k] > starttimestamps2 and neuron[k] < endtimestamps:\n",
    "                    timestamp2.append(neuron[k]-starttimestamps)\n",
    "            np.savetxt(pathtosave+'/timestamps2'+timestamps[i]+'.csv', timestamp2, delimiter = ',')\n",
    "            ISI2 = []\n",
    "            \n",
    "            for k in range(len(neuron)-1):\n",
    "                if neuron[k] > startISI2 and neuron[k] < endISI2:\n",
    "                    ISI2.append(neuron[k+1]-neuron[k])\n",
    "                    \n",
    "            ISIhist2, bins2 = np.histogram(ISI2, 100, range=(0,1))\n",
    "            \n",
    "            np.savetxt(pathtosave+'/ISI2'+timestamps[i]+'.csv', ISIhist2, delimiter = ',')\n",
    "            \n",
    "print 'finished!'\n",
    "        "
   ]
  },
  {
   "cell_type": "code",
   "execution_count": null,
   "metadata": {
    "collapsed": true
   },
   "outputs": [],
   "source": []
  }
 ],
 "metadata": {
  "kernelspec": {
   "display_name": "Python 2",
   "language": "python",
   "name": "python2"
  },
  "language_info": {
   "codemirror_mode": {
    "name": "ipython",
    "version": 2
   },
   "file_extension": ".py",
   "mimetype": "text/x-python",
   "name": "python",
   "nbconvert_exporter": "python",
   "pygments_lexer": "ipython2",
   "version": "2.7.12"
  }
 },
 "nbformat": 4,
 "nbformat_minor": 0
}
