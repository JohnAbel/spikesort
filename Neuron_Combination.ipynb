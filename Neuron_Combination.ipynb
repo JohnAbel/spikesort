{
 "cells": [
  {
   "cell_type": "code",
   "execution_count": 54,
   "metadata": {
    "collapsed": true
   },
   "outputs": [],
   "source": [
    "# Combine neurons with similar waveforms to test\n",
    "# Calculate rate histograms\n",
    "# Calculate ISIs to test whether they pass the test\n",
    "\n",
    "import os\n",
    "import numpy as np\n",
    "import matplotlib.pyplot as plt\n",
    "import csv\n",
    "MEA = '102016/MEAC'\n",
    "\n",
    "pathtimestamps = '/Volumes/MEA_DATA_2/102016_MEAC/numpy_neurons/combinedtimestamps/beforestim_timestamps/'\n",
    "timestamps = os.listdir(pathtimestamps)"
   ]
  },
  {
   "cell_type": "code",
   "execution_count": 51,
   "metadata": {
    "collapsed": false
   },
   "outputs": [
    {
     "data": {
      "text/plain": [
       "'12_neuron8_'"
      ]
     },
     "execution_count": 51,
     "metadata": {},
     "output_type": "execute_result"
    }
   ],
   "source": [
    "timestamps[1][0:11]"
   ]
  },
  {
   "cell_type": "code",
   "execution_count": 55,
   "metadata": {
    "collapsed": false
   },
   "outputs": [
    {
     "name": "stdout",
     "output_type": "stream",
     "text": [
      "32_neuron9_before.npy\n",
      "32_neuron17before.npy\n"
     ]
    }
   ],
   "source": [
    "# combines neurons into a single array called neuron\n",
    "neuronnumber = 2\n",
    "neuron1name = '32_neuron17'\n",
    "neuron2name = '32_neuron9_'\n",
    "\n",
    "for i in range(len(timestamps)):\n",
    "    if timestamps[i][0:11] == neuron1name:\n",
    "        neuron1 = np.load(pathtimestamps+timestamps[i])\n",
    "        print timestamps[i]\n",
    "    elif timestamps[i][0:11] == neuron2name:\n",
    "        neuron2 = np.load(pathtimestamps+timestamps[i])\n",
    "        print timestamps[i]\n",
    "    else:\n",
    "        continue\n",
    "        \n",
    "neuron = np.sort(np.append(neuron1, neuron2))"
   ]
  },
  {
   "cell_type": "code",
   "execution_count": null,
   "metadata": {
    "collapsed": true
   },
   "outputs": [],
   "source": [
    "neuron1 = np.load('/Volumes/MEA_DATA_2/')"
   ]
  },
  {
   "cell_type": "code",
   "execution_count": 25,
   "metadata": {
    "collapsed": false
   },
   "outputs": [],
   "source": [
    "neuron = np.sort(np.append(neuron1, neuron2))"
   ]
  },
  {
   "cell_type": "code",
   "execution_count": 56,
   "metadata": {
    "collapsed": false
   },
   "outputs": [],
   "source": [
    "# plots rate histogram for combined neuron\n",
    "bins = neuron[-1]/600\n",
    "\n",
    "counts, times, runs = plt.hist(neuron, int(bins))\n",
    "plt.close()     \n",
    "countsfreq = counts/600\n",
    "yaxis = times/3600\n",
    "yaxis = np.delete(yaxis, yaxis[-1])\n",
    "\n",
    "plt.figure()\n",
    "plt.plot(yaxis, countsfreq)\n",
    "plt.xlabel(\"Hours\")\n",
    "plt.ylabel(\"Frequency\")\n",
    "plt.show()"
   ]
  },
  {
   "cell_type": "code",
   "execution_count": 45,
   "metadata": {
    "collapsed": false
   },
   "outputs": [
    {
     "data": {
      "text/plain": [
       "98.627924013888887"
      ]
     },
     "execution_count": 45,
     "metadata": {},
     "output_type": "execute_result"
    }
   ],
   "source": [
    "neuron[150000]/3600"
   ]
  },
  {
   "cell_type": "code",
   "execution_count": 57,
   "metadata": {
    "collapsed": false
   },
   "outputs": [
    {
     "name": "stdout",
     "output_type": "stream",
     "text": [
      "good\n",
      "good\n"
     ]
    }
   ],
   "source": [
    "#check if ISI is good\n",
    "percentagelist = []\n",
    "underfivemscount = []\n",
    "totalcounts = []\n",
    "\n",
    "if np.sum(neuron) > 0:           \n",
    "    isitimestamps = []\n",
    "    for i in range(len(neuron)-1):\n",
    "        if neuron[i] < 150000:\n",
    "            isitimestamps.append(neuron[i+1]-neuron[i])\n",
    "\n",
    "    bins = np.linspace(0,1,200)\n",
    "    counts, testbins, runs = plt.hist(isitimestamps, bins)\n",
    "    if counts[0] > 0 and np.sum(counts) > 0:\n",
    "        fractionbadspikes = counts[0]/np.sum(counts)\n",
    "        underfivemscount.append(counts[0])\n",
    "        totalcounts.append(np.sum(counts))\n",
    "        percentagelist.append(fractionbadspikes)\n",
    "    else:\n",
    "        fractionbadspikes = 0\n",
    "\n",
    "    if fractionbadspikes > 0.05:\n",
    "        print 'failed'\n",
    "    else:\n",
    "        print 'good'\n",
    "    if counts[0] > 500:\n",
    "        print 'failed2'\n",
    "    else:\n",
    "        print 'good'\n",
    "\n"
   ]
  },
  {
   "cell_type": "code",
   "execution_count": 58,
   "metadata": {
    "collapsed": false
   },
   "outputs": [],
   "source": [
    "plt.close()\n",
    "plt.plot(counts)\n",
    "plt.show()"
   ]
  },
  {
   "cell_type": "code",
   "execution_count": 168,
   "metadata": {
    "collapsed": false
   },
   "outputs": [],
   "source": [
    "# save new timestamp list \n",
    "savepath = pathtimestamps +'/'+neuron1name+'and'+neuron2name+'.csv'\n",
    "np.savetxt(savepath, neuron, delimiter = ',')\n"
   ]
  },
  {
   "cell_type": "code",
   "execution_count": 60,
   "metadata": {
    "collapsed": false
   },
   "outputs": [],
   "source": [
    "np.save(pathtimestamps+neuron1name+'and'+neuron2name, neuron)"
   ]
  },
  {
   "cell_type": "code",
   "execution_count": null,
   "metadata": {
    "collapsed": true
   },
   "outputs": [],
   "source": []
  }
 ],
 "metadata": {
  "kernelspec": {
   "display_name": "Python 2",
   "language": "python",
   "name": "python2"
  },
  "language_info": {
   "codemirror_mode": {
    "name": "ipython",
    "version": 2
   },
   "file_extension": ".py",
   "mimetype": "text/x-python",
   "name": "python",
   "nbconvert_exporter": "python",
   "pygments_lexer": "ipython2",
   "version": "2.7.12"
  }
 },
 "nbformat": 4,
 "nbformat_minor": 0
}
