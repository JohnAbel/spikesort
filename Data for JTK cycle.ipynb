{
 "cells": [
  {
   "cell_type": "code",
   "execution_count": 1,
   "metadata": {
    "collapsed": true
   },
   "outputs": [],
   "source": [
    "# imports necessary modules to run the script\n",
    "import numpy as np\n",
    "import matplotlib.pyplot as plt\n",
    "import os \n",
    "import csv\n",
    "\n",
    "# import files 1 by 1 (csv timestamps)\n",
    "pathtimestamps = '/Volumes/MEA_DATA/102016_MEAC/beforestim/sorting_results/csv/' # change the path depending on MEA\n",
    "\n",
    "timestamps = os.listdir(pathtimestamps) # lists the directory containing all the timestamps from that MEA"
   ]
  },
  {
   "cell_type": "code",
   "execution_count": 2,
   "metadata": {
    "collapsed": false
   },
   "outputs": [],
   "source": [
    "MEAname = pathtimestamps[18:29]\n",
    "threedays = 259200 # number of seconds for file\n",
    "datatest = []\n",
    "bins = range(0,72,1)\n",
    "bins.insert(0,MEAname) # inserts name of MEA in header\n",
    "bins.remove(71)\n",
    "\n",
    "with open('jtkcycle.csv', 'w') as csvfile:\n",
    "    datatest = csv.writer(csvfile)\n",
    "    datatest.writerow(bins) # writes header with bins and MEAname\n",
    "    for i in range(len(timestamps)):\n",
    "        counts = []\n",
    "        pathfile = pathtimestamps + timestamps[i]\n",
    "        neuron = np.genfromtxt(pathfile, delimiter = ',') #imports specified neuron\n",
    "        if neuron.size > 1:\n",
    "            histobin = range(0,threedays,3600) #set bins for histogram\n",
    "            counts, times, runs = plt.hist(neuron, histobin)\n",
    "            ratehisto = counts.tolist()\n",
    "            ratehisto.insert(0,timestamps[i])\n",
    "            datatest.writerow(ratehisto)\n"
   ]
  },
  {
   "cell_type": "code",
   "execution_count": 13,
   "metadata": {
    "collapsed": false
   },
   "outputs": [
    {
     "name": "stdout",
     "output_type": "stream",
     "text": [
      " 37_neuron0_times.csv\n",
      " 37_neuron10_times.csv\n",
      " 37_neuron11_times.csv\n",
      " 37_neuron12_times.csv\n",
      " 37_neuron13_times.csv\n",
      " 37_neuron14_times.csv\n",
      " 37_neuron15_times.csv\n",
      " 37_neuron16_times.csv\n",
      " 37_neuron17_times.csv\n",
      " 37_neuron1_times.csv\n",
      " 37_neuron2_times.csv\n",
      " 37_neuron3_times.csv\n",
      " 37_neuron4_times.csv\n",
      " 37_neuron5_times.csv\n",
      " 37_neuron6_times.csv\n",
      " 37_neuron7_times.csv\n",
      " 37_neuron8_times.csv\n",
      " 37_neuron9_times.csv\n"
     ]
    }
   ],
   "source": [
    "for i in range(len(timestamps)):\n",
    "    pathfile = pathtimestamps + timestamps[i]\n",
    "    neuron = np.genfromtxt(pathfile, delimiter = ',')\n",
    "    if neuron.size <= 1:\n",
    "        print timestamps[i]"
   ]
  },
  {
   "cell_type": "code",
   "execution_count": null,
   "metadata": {
    "collapsed": true
   },
   "outputs": [],
   "source": []
  }
 ],
 "metadata": {
  "kernelspec": {
   "display_name": "Python 2",
   "language": "python",
   "name": "python2"
  },
  "language_info": {
   "codemirror_mode": {
    "name": "ipython",
    "version": 2
   },
   "file_extension": ".py",
   "mimetype": "text/x-python",
   "name": "python",
   "nbconvert_exporter": "python",
   "pygments_lexer": "ipython2",
   "version": "2.7.12"
  }
 },
 "nbformat": 4,
 "nbformat_minor": 0
}
