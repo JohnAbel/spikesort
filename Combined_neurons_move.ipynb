{
 "cells": [
  {
   "cell_type": "code",
   "execution_count": null,
   "metadata": {
    "collapsed": true
   },
   "outputs": [],
   "source": [
    "import numpy as np\n",
    "import matplotlib.pyplot as plt\n",
    "import os \n",
    "import shutil\n",
    "import csv\n",
    "\n",
    "MEA = '102016_MEAC'\n",
    "\n",
    "#move timestamps from combined neurons into a single folder\n",
    "path = '/Volumes/MEA_DATA_2/'+MEA+'/numpy_neurons/'\n",
    "path4 = '/Volumes/MEA_DATA_2/'+MEA+'/numpy_neurons/combinedtimestamps/'\n",
    "path1 = '/Volumes/MEA_DATA_2/'+MEA+'/numpy_neurons/combined_neurons/'\n",
    "\n",
    "if os.path.isdir(path4) == False:\n",
    "    os.mkdir(path4)\n",
    "    \n",
    "def movetimestamps(path1):\n",
    "    electrodes = os.listdir(path1)\n",
    "    for e in range(len(electrodes)):\n",
    "        path2 = path1+electrodes[e]\n",
    "        timestamps = os.listdir(path2)\n",
    "        for n in range(len(timestamps)):\n",
    "            if timestamps[n][-3:] == 'npy' and timestamps[n][-9] == 't':\n",
    "                pathx = path2 + '/' + timestamps[n]\n",
    "                pathy = path4\n",
    "                shutil.move(pathx, pathy)\n",
    "\n",
    "movetimestamps(path1)\n"
   ]
  }
 ],
 "metadata": {
  "kernelspec": {
   "display_name": "Python 2",
   "language": "python",
   "name": "python2"
  },
  "language_info": {
   "codemirror_mode": {
    "name": "ipython",
    "version": 2
   },
   "file_extension": ".py",
   "mimetype": "text/x-python",
   "name": "python",
   "nbconvert_exporter": "python",
   "pygments_lexer": "ipython2",
   "version": "2.7.12"
  }
 },
 "nbformat": 4,
 "nbformat_minor": 0
}
