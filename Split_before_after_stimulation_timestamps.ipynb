{
 "cells": [
  {
   "cell_type": "code",
   "execution_count": 1,
   "metadata": {
    "collapsed": false
   },
   "outputs": [
    {
     "name": "stdout",
     "output_type": "stream",
     "text": [
      "step1\n",
      "step2\n",
      "step3 loop done\n",
      "alldone\n",
      "step1\n",
      "step2\n"
     ]
    },
    {
     "ename": "KeyboardInterrupt",
     "evalue": "",
     "output_type": "error",
     "traceback": [
      "\u001b[0;31m---------------------------------------------------------------------------\u001b[0m",
      "\u001b[0;31mKeyboardInterrupt\u001b[0m                         Traceback (most recent call last)",
      "\u001b[0;32m<ipython-input-1-366d5c932184>\u001b[0m in \u001b[0;36m<module>\u001b[0;34m()\u001b[0m\n\u001b[1;32m     37\u001b[0m     \u001b[0;32mfor\u001b[0m \u001b[0mtime\u001b[0m \u001b[0;32min\u001b[0m \u001b[0mrange\u001b[0m\u001b[0;34m(\u001b[0m\u001b[0mlen\u001b[0m\u001b[0;34m(\u001b[0m\u001b[0mneuron\u001b[0m\u001b[0;34m)\u001b[0m\u001b[0;34m)\u001b[0m\u001b[0;34m:\u001b[0m\u001b[0;34m\u001b[0m\u001b[0m\n\u001b[1;32m     38\u001b[0m         \u001b[0;32mif\u001b[0m \u001b[0mneuron\u001b[0m\u001b[0;34m[\u001b[0m\u001b[0mtime\u001b[0m\u001b[0;34m]\u001b[0m \u001b[0;34m<\u001b[0m \u001b[0mtimeofstimulation\u001b[0m\u001b[0;34m:\u001b[0m\u001b[0;34m\u001b[0m\u001b[0m\n\u001b[0;32m---> 39\u001b[0;31m             \u001b[0mbeforestim\u001b[0m \u001b[0;34m=\u001b[0m \u001b[0mnp\u001b[0m\u001b[0;34m.\u001b[0m\u001b[0mappend\u001b[0m\u001b[0;34m(\u001b[0m\u001b[0mbeforestim\u001b[0m\u001b[0;34m,\u001b[0m \u001b[0mneuron\u001b[0m\u001b[0;34m[\u001b[0m\u001b[0mtime\u001b[0m\u001b[0;34m]\u001b[0m\u001b[0;34m)\u001b[0m\u001b[0;34m\u001b[0m\u001b[0m\n\u001b[0m\u001b[1;32m     40\u001b[0m         \u001b[0;32melif\u001b[0m \u001b[0mneuron\u001b[0m\u001b[0;34m[\u001b[0m\u001b[0mtime\u001b[0m\u001b[0;34m]\u001b[0m \u001b[0;34m>\u001b[0m \u001b[0mtimeofstimulationend\u001b[0m\u001b[0;34m:\u001b[0m\u001b[0;34m\u001b[0m\u001b[0m\n\u001b[1;32m     41\u001b[0m             \u001b[0mafterstim\u001b[0m \u001b[0;34m=\u001b[0m \u001b[0mnp\u001b[0m\u001b[0;34m.\u001b[0m\u001b[0mappend\u001b[0m\u001b[0;34m(\u001b[0m\u001b[0mafterstim\u001b[0m\u001b[0;34m,\u001b[0m \u001b[0mneuron\u001b[0m\u001b[0;34m[\u001b[0m\u001b[0mtime\u001b[0m\u001b[0;34m]\u001b[0m\u001b[0;34m)\u001b[0m\u001b[0;34m\u001b[0m\u001b[0m\n",
      "\u001b[0;32m/usr/local/lib/python2.7/site-packages/numpy/lib/function_base.pyc\u001b[0m in \u001b[0;36mappend\u001b[0;34m(arr, values, axis)\u001b[0m\n\u001b[1;32m   4573\u001b[0m         \u001b[0mvalues\u001b[0m \u001b[0;34m=\u001b[0m \u001b[0mravel\u001b[0m\u001b[0;34m(\u001b[0m\u001b[0mvalues\u001b[0m\u001b[0;34m)\u001b[0m\u001b[0;34m\u001b[0m\u001b[0m\n\u001b[1;32m   4574\u001b[0m         \u001b[0maxis\u001b[0m \u001b[0;34m=\u001b[0m \u001b[0marr\u001b[0m\u001b[0;34m.\u001b[0m\u001b[0mndim\u001b[0m\u001b[0;34m-\u001b[0m\u001b[0;36m1\u001b[0m\u001b[0;34m\u001b[0m\u001b[0m\n\u001b[0;32m-> 4575\u001b[0;31m     \u001b[0;32mreturn\u001b[0m \u001b[0mconcatenate\u001b[0m\u001b[0;34m(\u001b[0m\u001b[0;34m(\u001b[0m\u001b[0marr\u001b[0m\u001b[0;34m,\u001b[0m \u001b[0mvalues\u001b[0m\u001b[0;34m)\u001b[0m\u001b[0;34m,\u001b[0m \u001b[0maxis\u001b[0m\u001b[0;34m=\u001b[0m\u001b[0maxis\u001b[0m\u001b[0;34m)\u001b[0m\u001b[0;34m\u001b[0m\u001b[0m\n\u001b[0m\u001b[1;32m   4576\u001b[0m \u001b[0;34m\u001b[0m\u001b[0m\n",
      "\u001b[0;31mKeyboardInterrupt\u001b[0m: "
     ]
    }
   ],
   "source": [
    "#Divide timestamps before and after stimulation\n",
    "\n",
    "import os\n",
    "import numpy as np\n",
    "import csv\n",
    "\n",
    "MEA = '102016_MEAC'\n",
    "\n",
    "path = '/Volumes/MEA_DATA_2/'+MEA+'/numpy_neurons/combinedtimestamps/'\n",
    "\n",
    "path2 = '/Volumes/MEA_DATA_2/'+MEA+'/numpy_neurons/combinedtimestamps/beforestim_timestamps/'\n",
    "if os.path.isdir(path2) == False:\n",
    "    os.mkdir(path2)\n",
    "\n",
    "path3 = '/Volumes/MEA_DATA_2/'+MEA+'/numpy_neurons/combinedtimestamps/afterstim_timestamps/'\n",
    "if os.path.isdir(path3) == False:\n",
    "    os.mkdir(path3)\n",
    "\n",
    "path4 = '/Volumes/MEA_DATA_2/'+MEA+'/numpy_neurons/combinedtimestamps/stimulation_timestamps/'\n",
    "if os.path.isdir(path4) == False:\n",
    "    os.mkdir(path4)\n",
    "\n",
    "timeofstimulation = 257100 #time of stim start in s\n",
    "timeofstimulationend = 262300 #time of stim end in s\n",
    "\n",
    "rawtimestamps = os.listdir(path)\n",
    "rawtimestamps = np.sort(rawtimestamps)\n",
    "\n",
    "for nn in range(len(rawtimestamps)-380):\n",
    "    neuron = np.load(path+rawtimestamps[nn+380])\n",
    "    name = rawtimestamps[nn+380][1:12]\n",
    "    print 'step1'\n",
    "    beforestim = []\n",
    "    afterstim = []\n",
    "    stimulation = []\n",
    "    print 'step2'\n",
    "    for time in range(len(neuron)):\n",
    "        if neuron[time] < timeofstimulation:\n",
    "            beforestim = np.append(beforestim, neuron[time])\n",
    "        elif neuron[time] > timeofstimulationend:\n",
    "            afterstim = np.append(afterstim, neuron[time])\n",
    "        else:\n",
    "            stimulation = np.append(stimulation, neuron[time])\n",
    "    print 'step3 loop done'\n",
    "    if len(beforestim) > 1:\n",
    "        np.save(path2+name+'before', beforestim)\n",
    "    if len(afterstim) > 1:    \n",
    "        np.save(path3+name+'after', afterstim)\n",
    "    if len(stimulation) > 1:\n",
    "        np.save(path4+name+'stim', stimulation)\n",
    "    print 'alldone'"
   ]
  },
  {
   "cell_type": "code",
   "execution_count": null,
   "metadata": {
    "collapsed": true
   },
   "outputs": [],
   "source": [
    "import os\n",
    "import numpy as np\n",
    "import csv\n",
    "\n",
    "MEA = '102016_MEAC'\n",
    "\n",
    "path = '/Volumes/MEA_DATA_2/'+MEA+'/numpy_neurons/combinedtimestamps/'\n"
   ]
  },
  {
   "cell_type": "code",
   "execution_count": null,
   "metadata": {
    "collapsed": true
   },
   "outputs": [],
   "source": [
    "timestamps = os.listdir(path)"
   ]
  },
  {
   "cell_type": "code",
   "execution_count": null,
   "metadata": {
    "collapsed": false
   },
   "outputs": [],
   "source": [
    "len(timestamps)-350"
   ]
  },
  {
   "cell_type": "code",
   "execution_count": null,
   "metadata": {
    "collapsed": false
   },
   "outputs": [],
   "source": [
    "neuron = np.load(path+timestamps[381])"
   ]
  },
  {
   "cell_type": "code",
   "execution_count": 7,
   "metadata": {
    "collapsed": false
   },
   "outputs": [
    {
     "data": {
      "text/plain": [
       "' 76_neuron10_12_times.npy'"
      ]
     },
     "execution_count": 7,
     "metadata": {},
     "output_type": "execute_result"
    }
   ],
   "source": [
    "rawtimestamps[nn+380]"
   ]
  },
  {
   "cell_type": "code",
   "execution_count": 8,
   "metadata": {
    "collapsed": false
   },
   "outputs": [
    {
     "data": {
      "text/plain": [
       "'npy'"
      ]
     },
     "execution_count": 8,
     "metadata": {},
     "output_type": "execute_result"
    }
   ],
   "source": [
    "rawtimestamps[0][-3:]"
   ]
  },
  {
   "cell_type": "code",
   "execution_count": null,
   "metadata": {
    "collapsed": false
   },
   "outputs": [],
   "source": [
    "for time in range(len(neuron)):\n",
    "    if neuron[time] < timeofstimulation:\n",
    "        beforestim = np.append(beforestim, neuron[time])\n",
    "    elif neuron[time] > timeofstimulationend:\n",
    "        afterstim = np.append(afterstim, neuron[time])\n",
    "    else:\n",
    "        stimulation = np.append(stimulation, neuron[time])\n",
    "\n",
    "if len(beforestim) > 1:\n",
    "    np.save(path2+name+'before', beforestim)\n",
    "if len(afterstim) > 1:    \n",
    "    np.save(path3+name+'after', afterstim)\n",
    "if len(stimulation) > 1:\n",
    "    np.save(path4+name+'stim', stimulation)\n"
   ]
  },
  {
   "cell_type": "code",
   "execution_count": null,
   "metadata": {
    "collapsed": true
   },
   "outputs": [],
   "source": []
  }
 ],
 "metadata": {
  "kernelspec": {
   "display_name": "Python 2",
   "language": "python",
   "name": "python2"
  },
  "language_info": {
   "codemirror_mode": {
    "name": "ipython",
    "version": 2
   },
   "file_extension": ".py",
   "mimetype": "text/x-python",
   "name": "python",
   "nbconvert_exporter": "python",
   "pygments_lexer": "ipython2",
   "version": "2.7.12"
  }
 },
 "nbformat": 4,
 "nbformat_minor": 0
}
