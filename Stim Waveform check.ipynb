{
 "cells": [
  {
   "cell_type": "code",
   "execution_count": 18,
   "metadata": {
    "collapsed": false
   },
   "outputs": [
    {
     "name": "stdout",
     "output_type": "stream",
     "text": [
      " 62_n0_profiles.npy\n",
      " 62_n0_times.npy\n"
     ]
    }
   ],
   "source": [
    "## code to verify VIP+ neuron identification\n",
    "# import stimulation waveforms ID'ed as VIP+ \n",
    "# import 12h average other waveforms from previous day\n",
    "\n",
    "import numpy as np\n",
    "import matplotlib.pyplot as plt\n",
    "import os\n",
    "\n",
    "stimelectrode = '62'\n",
    "stimneuronnum = '0'\n",
    "\n",
    "path = '/Volumes/MEA_DATA_2/102016_MEAC/numpy_neurons/3stim/'\n",
    "\n",
    "stimnp = os.listdir(path)\n",
    "\n",
    "for num in range(len(stimnp)):\n",
    "    if stimnp[num][1:3] == stimelectrode and stimnp[num][5] == stimneuronnum:\n",
    "        print stimnp[num]\n",
    "        if stimnp[num][-7] == 'm':\n",
    "            neurontime = np.load(path+stimnp[num])\n",
    "        else:\n",
    "            neuronshape = np.load(path+stimnp[num])\n",
    "\n",
    "stimshape = np.mean(neuronshape[:4000], axis=0)\n",
    "stimstd = np.std(neuronshape, axis=0)\n",
    "\n",
    "path2 = '/Volumes/MEA_DATA_2/102016_MEAC/numpy_neurons/2day3before/'\n",
    "\n",
    "beforestimnp = os.listdir(path2)\n",
    "beforestimshapes = []\n",
    "beforestimstd = []\n",
    "testlegend = [' ']\n",
    "for num2 in range(len(beforestimnp)):\n",
    "    if beforestimnp[num2][1:3] == stimelectrode and beforestimnp[num2][-7] != 'm':\n",
    "        neuronshape2 = np.load(path2+beforestimnp[num2])\n",
    "        testlegend.append(beforestimnp[num2][5])\n",
    "        \n",
    "        transient = np.mean(neuronshape2, axis=0)\n",
    "        transient2 = np.std(neuronshape2, axis=0)\n",
    "        transient.tolist()\n",
    "        transient2.tolist()\n",
    "        beforestimshapes.append(transient)\n",
    "        beforestimstd.append(transient2)\n",
    "\n",
    "plt.close()\n",
    "color_idx3 = np.linspace(0,1,len(beforestimshapes))\n",
    "\n",
    "plt.figure()\n",
    "plt.plot(range(40), stimshape, '--', color = 'black', lw=2)\n",
    "for i in range(len(beforestimshapes)):\n",
    "    plt.plot(range(40), beforestimshapes[i], color = plt.cm.jet(color_idx3[i]), lw=2)\n",
    "plt.legend(testlegend, fontsize = 'small')\n",
    "plt.show()"
   ]
  },
  {
   "cell_type": "code",
   "execution_count": 21,
   "metadata": {
    "collapsed": false
   },
   "outputs": [],
   "source": [
    "skipneurons = [0,6,7]\n",
    "\n",
    "plt.close()\n",
    "number = len(beforestimshapes)-len(skipneurons)\n",
    "color_idx = np.linspace(0,1,number)\n",
    "legend2 = [' ']\n",
    "\n",
    "plt.figure()\n",
    "plt.plot(range(40), stimshape, '--', color = 'black', lw=2)\n",
    "x=0\n",
    "for i in range(len(beforestimshapes)):\n",
    "    if i not in skipneurons:\n",
    "        plt.plot(range(40), beforestimshapes[i], color = plt.cm.jet(color_idx[x]), lw=2)\n",
    "        legend2 = np.append(legend2, testlegend[i+1])\n",
    "        x = x+1\n",
    "plt.legend(legend2, fontsize = 'small')\n",
    "plt.show()"
   ]
  },
  {
   "cell_type": "code",
   "execution_count": 9,
   "metadata": {
    "collapsed": false
   },
   "outputs": [],
   "source": [
    "plt.close()\n",
    "plt.figure()\n",
    "plt.errorbar(range(40), stimshape, stimstd)\n",
    "for i in range(len(beforestimshapes)):\n",
    "    plt.errorbar(range(40), beforestimshapes[i], beforestimstd[i])\n",
    "plt.show()"
   ]
  },
  {
   "cell_type": "code",
   "execution_count": 25,
   "metadata": {
    "collapsed": false
   },
   "outputs": [
    {
     "data": {
      "text/plain": [
       "[' ', '0', '2', '3', '4', '5', '6', '7', '8', '9', '1', '1', '1']"
      ]
     },
     "execution_count": 25,
     "metadata": {},
     "output_type": "execute_result"
    }
   ],
   "source": [
    "testlegend"
   ]
  },
  {
   "cell_type": "code",
   "execution_count": null,
   "metadata": {
    "collapsed": true
   },
   "outputs": [],
   "source": []
  }
 ],
 "metadata": {
  "kernelspec": {
   "display_name": "Python 2",
   "language": "python",
   "name": "python2"
  },
  "language_info": {
   "codemirror_mode": {
    "name": "ipython",
    "version": 2
   },
   "file_extension": ".py",
   "mimetype": "text/x-python",
   "name": "python",
   "nbconvert_exporter": "python",
   "pygments_lexer": "ipython2",
   "version": "2.7.12"
  }
 },
 "nbformat": 4,
 "nbformat_minor": 0
}
