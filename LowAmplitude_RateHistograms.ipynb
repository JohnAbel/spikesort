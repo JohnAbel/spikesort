{
 "cells": [
  {
   "cell_type": "code",
   "execution_count": null,
   "metadata": {
    "collapsed": true
   },
   "outputs": [],
   "source": [
    "# imports necessary modules to run the script\n",
    "import numpy as np\n",
    "import matplotlib.pyplot as plt\n",
    "import os \n",
    "import csv\n",
    "\n",
    "# import files 1 by 1 (csv timestamps)\n",
    "pathtimestamps = '/Volumes/MEA_DATA/102016_MEAC/beforestim/sorting_results/csv/' # change the path depending on MEA\n",
    "\n",
    "timestamps = os.listdir(pathtimestamps) # lists the directory containing all the timestamps from that MEA"
   ]
  },
  {
   "cell_type": "code",
   "execution_count": null,
   "metadata": {
    "collapsed": false
   },
   "outputs": [
    {
     "name": "stdout",
     "output_type": "stream",
     "text": [
      " 25_neuron2_times.csv\n",
      " 26_neuron3_times.csv\n",
      " 26_neuron4_times.csv\n",
      " 32_neuron0_times.csv\n",
      " 32_neuron1_times.csv\n",
      " 32_neuron6_times.csv\n",
      " 33_neuron1_times.csv\n",
      " 33_neuron2_times.csv\n",
      " 33_neuron8_times.csv\n",
      " 33_neuron9_times.csv\n",
      " 42_neuron10_times.csv\n",
      " 42_neuron12_times.csv\n",
      " 42_neuron14_times.csv\n",
      " 42_neuron1_times.csv\n",
      " 42_neuron5_times.csv\n",
      " 43_neuron2_times.csv\n",
      " 44_neuron1_times.csv\n",
      " 44_neuron4_times.csv\n",
      " 46_neuron10_times.csv\n"
     ]
    }
   ],
   "source": [
    "for i in range(len(timestamps)):\n",
    "    threedays = 259200 # number of seconds for file\n",
    "    counts = []\n",
    "    pathfile = pathtimestamps + timestamps[i]\n",
    "    neuron = np.genfromtxt(pathfile, delimiter = ',') #imports specified neuron\n",
    "    if neuron.size > 1:\n",
    "        histobin = range(0,threedays,600) #set bins for histogram\n",
    "        counts, times, runs = plt.hist(neuron, histobin)\n",
    "        if max(counts)/600 < .5:\n",
    "            print timestamps[i]\n",
    "\n",
    "print \"finished\""
   ]
  },
  {
   "cell_type": "code",
   "execution_count": null,
   "metadata": {
    "collapsed": true
   },
   "outputs": [],
   "source": []
  }
 ],
 "metadata": {
  "kernelspec": {
   "display_name": "Python 2",
   "language": "python",
   "name": "python2"
  },
  "language_info": {
   "codemirror_mode": {
    "name": "ipython",
    "version": 2
   },
   "file_extension": ".py",
   "mimetype": "text/x-python",
   "name": "python",
   "nbconvert_exporter": "python",
   "pygments_lexer": "ipython2",
   "version": "2.7.12"
  }
 },
 "nbformat": 4,
 "nbformat_minor": 0
}
