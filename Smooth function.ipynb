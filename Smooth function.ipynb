{
 "cells": [
  {
   "cell_type": "code",
   "execution_count": 1,
   "metadata": {
    "collapsed": true
   },
   "outputs": [],
   "source": [
    "# imports necessary modules to run the script\n",
    "import numpy as np\n",
    "import matplotlib.pyplot as plt\n",
    "import os \n",
    "\n",
    "# import files 1 by 1 (csv timestamps)\n",
    "pathtimestamps = '/Volumes/MEA_DATA/032016_MEAA/beforestim/sorting_results/csv/' # change the path depending on MEA\n",
    "\n",
    "timestamps = os.listdir(pathtimestamps) # lists the directory containing all the timestamps from that MEA"
   ]
  },
  {
   "cell_type": "code",
   "execution_count": 2,
   "metadata": {
    "collapsed": true
   },
   "outputs": [],
   "source": [
    "pathfile = pathtimestamps + timestamps[12]\n",
    "neuron = np.genfromtxt(pathfile, delimiter = ',')"
   ]
  },
  {
   "cell_type": "code",
   "execution_count": 18,
   "metadata": {
    "collapsed": false
   },
   "outputs": [],
   "source": [
    "bins = range(0,int(neuron[len(neuron)-1]),600)\n",
    "counts, times, runs = plt.hist(neuron,bins)\n",
    "smooth = []\n",
    "twentyfourhsmooth = []\n",
    "smoothindex3h = 18\n",
    "for j in range(smoothindex/2):\n",
    "    smooth.append(0)\n",
    "for i in range(len(counts)-smoothindex):\n",
    "    value = np.mean(counts[i:(i+smoothindex)])\n",
    "    smooth.append(value)\n",
    "for x in range(smoothindex/2):\n",
    "    smooth.append(0)\n",
    "    \n",
    "smoothindex24h = 144\n",
    "for j in range(smoothindex24h/2):\n",
    "    twentyfourhsmooth.append(0)\n",
    "for i in range(len(counts)-smoothindex24h):\n",
    "    value = np.mean(counts[i:(i+smoothindex24h)])\n",
    "    twentyfourhsmooth.append(value)\n",
    "for x in range(smoothindex24h/2):\n",
    "    twentyfourhsmooth.append(0)"
   ]
  },
  {
   "cell_type": "code",
   "execution_count": null,
   "metadata": {
    "collapsed": false
   },
   "outputs": [],
   "source": [
    "plt.plot(range(446),smooth,range(446), twentyfourhsmooth)\n",
    "plt.show()"
   ]
  },
  {
   "cell_type": "code",
   "execution_count": null,
   "metadata": {
    "collapsed": true
   },
   "outputs": [],
   "source": []
  }
 ],
 "metadata": {
  "kernelspec": {
   "display_name": "Python 2",
   "language": "python",
   "name": "python2"
  },
  "language_info": {
   "codemirror_mode": {
    "name": "ipython",
    "version": 2
   },
   "file_extension": ".py",
   "mimetype": "text/x-python",
   "name": "python",
   "nbconvert_exporter": "python",
   "pygments_lexer": "ipython2",
   "version": "2.7.11"
  }
 },
 "nbformat": 4,
 "nbformat_minor": 0
}
