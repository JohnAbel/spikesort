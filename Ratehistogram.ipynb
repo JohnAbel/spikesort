{
 "cells": [
  {
   "cell_type": "code",
   "execution_count": 2,
   "metadata": {
    "collapsed": false
   },
   "outputs": [],
   "source": [
    "import os\n",
    "import numpy as np\n",
    "import matplotlib.pyplot as plt\n",
    "import csv\n",
    "\n",
    "\n",
    "pathtimestamps = '/Volumes/MEA_DATA_2/102016_MEAC/numpy_neurons/beforestim_timestamps/'\n",
    "\n",
    "path2 = '/Volumes/MEA_DATA_2/102016_MEAC/numpy_neurons/beforestim_ratehistograms/'\n",
    "if os.path.isdir(path2) == False:\n",
    "    os.mkdir(path2)\n",
    "\n",
    "\n",
    "timestamps = os.listdir(pathtimestamps) # lists the directory containing all the timestamps from that MEA\n",
    "timestamps = np.sort(timestamps)"
   ]
  },
  {
   "cell_type": "code",
   "execution_count": 4,
   "metadata": {
    "collapsed": false
   },
   "outputs": [
    {
     "name": "stdout",
     "output_type": "stream",
     "text": [
      "finished!\n"
     ]
    }
   ],
   "source": [
    "for i in range(len(timestamps)):\n",
    "    if timestamps[i] == '.DS_Store':\n",
    "        continue\n",
    "    else:\n",
    "        pathfile = pathtimestamps + timestamps[i]\n",
    "\n",
    "        neuron = np.load(pathfile)\n",
    "        neuron = np.sort(neuron)\n",
    "\n",
    "        if neuron[-1] >600:\n",
    "            length = neuron[-1]-neuron[0]\n",
    "            bins = length/600\n",
    "\n",
    "            counts, times, runs = plt.hist(neuron, int(bins))\n",
    "            plt.close()     \n",
    "            countsfreq = counts/600\n",
    "            yaxis = times/3600\n",
    "            yaxis = np.delete(yaxis, yaxis[-1])\n",
    "            if len(yaxis) == len(countsfreq):\n",
    "\n",
    "                plt.figure()\n",
    "                plt.plot(yaxis, countsfreq)\n",
    "                plt.title(timestamps[i])\n",
    "                plt.xlabel(\"Hours\")\n",
    "                plt.ylabel(\"Frequency\")\n",
    "                plt.savefig(path2+timestamps[i][0:12])\n",
    "                plt.close()\n",
    "\n",
    "            else:\n",
    "                print timestamps[i]+' error'\n",
    "\n",
    "print \"finished!\"\n"
   ]
  },
  {
   "cell_type": "code",
   "execution_count": null,
   "metadata": {
    "collapsed": true
   },
   "outputs": [],
   "source": []
  }
 ],
 "metadata": {
  "kernelspec": {
   "display_name": "Python 2",
   "language": "python",
   "name": "python2"
  },
  "language_info": {
   "codemirror_mode": {
    "name": "ipython",
    "version": 2
   },
   "file_extension": ".py",
   "mimetype": "text/x-python",
   "name": "python",
   "nbconvert_exporter": "python",
   "pygments_lexer": "ipython2",
   "version": "2.7.12"
  }
 },
 "nbformat": 4,
 "nbformat_minor": 0
}
