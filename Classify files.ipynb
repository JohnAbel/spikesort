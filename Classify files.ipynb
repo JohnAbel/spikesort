{
 "cells": [
  {
   "cell_type": "code",
   "execution_count": null,
   "metadata": {
    "collapsed": true
   },
   "outputs": [],
   "source": [
    "import numpy as np\n",
    "import matplotlib.pyplot as plt\n",
    "import os\n",
    "import shutil\n",
    "import glob\n",
    "import fnmatch"
   ]
  },
  {
   "cell_type": "code",
   "execution_count": null,
   "metadata": {
    "collapsed": false
   },
   "outputs": [],
   "source": [
    "path = '/Volumes/MEA_DATA/102016_MEAB/beforestim/102016_MEAB_postprocessing.csv'\n",
    "postprocessing = np.genfromtxt(path, delimiter = ',', skip_header = 1)"
   ]
  },
  {
   "cell_type": "code",
   "execution_count": null,
   "metadata": {
    "collapsed": false
   },
   "outputs": [],
   "source": [
    "path2 = '/Volumes/MEA_DATA/102016_MEAB/beforestim/sorting_results/goodneurons'\n",
    "\n",
    "os.mkdir( path2)\n",
    "\n",
    "path3 = '/Volumes/MEA_DATA/102016_MEAB/beforestim/sorting_results/badneurons'\n",
    "\n",
    "os.mkdir(path3)"
   ]
  },
  {
   "cell_type": "code",
   "execution_count": null,
   "metadata": {
    "collapsed": true
   },
   "outputs": [],
   "source": [
    "pathneuronnames = '/Volumes/MEA_DATA/102016_MEAB/beforestim/sorting_results/csv/' # change the path depending on MEA\n",
    "\n",
    "neuronnames = os.listdir(pathneuronnames) # lists the directory containing all the timestamps from that MEA"
   ]
  },
  {
   "cell_type": "code",
   "execution_count": null,
   "metadata": {
    "collapsed": false
   },
   "outputs": [],
   "source": [
    "x = 0\n",
    "for i in os.listdir(pathneuronnames):\n",
    "    filename = i\n",
    "    pathi = '/Volumes/MEA_DATA/102016_MEAB/beforestim/sorting_results/csv/%s' % i\n",
    "    if postprocessing[x] == 1:\n",
    "        shutil.move(pathi, path2)\n",
    "        print filename, \"good\", x\n",
    "    else:\n",
    "        shutil.move(pathi, path3)\n",
    "        print filename, \"bad\", x\n",
    "    x = x+1"
   ]
  },
  {
   "cell_type": "code",
   "execution_count": null,
   "metadata": {
    "collapsed": true
   },
   "outputs": [],
   "source": []
  }
 ],
 "metadata": {
  "kernelspec": {
   "display_name": "Python 2",
   "language": "python",
   "name": "python2"
  },
  "language_info": {
   "codemirror_mode": {
    "name": "ipython",
    "version": 2
   },
   "file_extension": ".py",
   "mimetype": "text/x-python",
   "name": "python",
   "nbconvert_exporter": "python",
   "pygments_lexer": "ipython2",
   "version": "2.7.12"
  }
 },
 "nbformat": 4,
 "nbformat_minor": 0
}
