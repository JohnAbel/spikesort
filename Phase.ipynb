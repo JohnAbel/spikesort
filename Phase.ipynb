{
 "cells": [
  {
   "cell_type": "code",
   "execution_count": 1,
   "metadata": {
    "collapsed": true
   },
   "outputs": [],
   "source": [
    "import os\n",
    "import numpy as np\n",
    "import matplotlib.pyplot as plt\n",
    "import csv\n",
    "MEA = '/102016_MEAB'\n",
    "\n",
    "pathtimestamps = '/Users/Tolkien/Box Sync/Mazuski_VIPChR2OpticalTagging_MEADATA'+MEA+'_sorting_results/goodneurons/' # change the path depending on MEA\n",
    "\n",
    "timestamps = os.listdir(pathtimestamps) # lists the directory containing all the timestamps from that MEA\n",
    "timestamps = np.sort(timestamps) # so that folder ends up at the end of the list\n",
    "\n",
    "pathtimestamps2 = '/Users/Tolkien/Documents/Mazuski_MEAresults/JTKcycle_periodandphase'+MEA+'.csv'\n",
    "\n",
    "pathtosave = '/Users/Tolkien/Documents/Mazuski_MEAresults/'\n"
   ]
  },
  {
   "cell_type": "code",
   "execution_count": 2,
   "metadata": {
    "collapsed": false
   },
   "outputs": [
    {
     "data": {
      "text/plain": [
       "array([' 23_neuron0_times.csv', ' 24_neuron0_times.csv',\n",
       "       ' 25_neuron1_times.csv', ' 31_neuron1_times.csv',\n",
       "       ' 32_neuron0_times.csv', ' 32_neuron1_times.csv',\n",
       "       ' 38_neuron0_times.csv', ' 41_neuron1_times.csv',\n",
       "       ' 43_neuron0_times.csv', ' 43_neuron1_times.csv',\n",
       "       ' 43_neuron2_times.csv', ' 44_neuron0_times.csv',\n",
       "       ' 46_neuron0_times.csv', ' 46_neuron1_times.csv',\n",
       "       ' 47_neuron0_times.csv', ' 54_neuron0_times.csv',\n",
       "       ' 55_neuron0_times.csv', ' 55_neuron2_times.csv',\n",
       "       ' 55_neuron3_times.csv', ' 56_neuron0_times.csv',\n",
       "       ' 57_neuron0_times.csv', ' 57_neuron1_times.csv',\n",
       "       ' 58_neuron1_times.csv', ' 61_neuron0_times.csv',\n",
       "       ' 61_neuron1_times.csv', ' 62_neuron0_times.csv',\n",
       "       ' 63_neuron0_times.csv', ' 66_neuron0_times.csv',\n",
       "       ' 66_neuron1_times.csv', ' 72_neuron0_times.csv',\n",
       "       ' 75_neuron1_times.csv', ' 76_neuron0_times.csv',\n",
       "       ' 76_neuron1_times.csv', ' 82_neuron0_times.csv',\n",
       "       ' 83_neuron1_times.csv', '.DS_Store', '33_neuron0and33_neuron1.csv',\n",
       "       '34_neuron0and34_neuron1.csv', '77_neuron1and77_neuron2.csv',\n",
       "       'ratehistogram'], \n",
       "      dtype='|S27')"
      ]
     },
     "execution_count": 2,
     "metadata": {},
     "output_type": "execute_result"
    }
   ],
   "source": [
    "timestamps"
   ]
  },
  {
   "cell_type": "code",
   "execution_count": 5,
   "metadata": {
    "collapsed": false
   },
   "outputs": [
    {
     "name": "stdout",
     "output_type": "stream",
     "text": [
      "[1.5, 25.5]\n",
      "[21.0, 44.0]\n",
      "[21.5, 49.5]\n",
      "[7.5, 32.5]\n",
      "[3.0, 28.0]\n",
      "[' ', 51.5]\n",
      "[4.5, 28.5]\n",
      "[21.5, 45.5]\n",
      "[12.0, 37.0]\n",
      "[2.5, 24.5]\n",
      "[13.5, 37.5]\n",
      "[11.5, 34.5]\n",
      "[6.0, 29.0]\n",
      "[1.0, 26.0]\n",
      "[3.5, 28.5]\n",
      "[3.5, 26.5]\n",
      "[11.0, 36.0]\n",
      "[18.5, 46.5]\n",
      "[3.5, 27.5]\n",
      "[4.5, 28.5]\n",
      "[20.5, 41.5]\n",
      "[3.0, 27.0]\n",
      "[2.5, 28.5]\n",
      "[1.0, 24.0]\n",
      "[1.5, 23.5]\n",
      "[0.0, 23.0]\n",
      "[23.0, 47.0]\n",
      "[21.5, 46.5]\n",
      "[20.5, 44.5]\n",
      "[23.0, 49.0]\n",
      "[14.5, 37.5]\n",
      "[3.5, 23.5]\n",
      "[21.0, 44.0]\n",
      "[3.5, 29.5]\n",
      "[' ', 55.5]\n",
      "[10.0, 34.0]\n",
      "[15.5, 39.5]\n",
      "[7.0, 27.0]\n",
      "finished!\n"
     ]
    }
   ],
   "source": [
    "x = 0\n",
    "for i in range(len(timestamps)-1):\n",
    "    \n",
    "    if timestamps[i] == '.DS_Store':\n",
    "        x = 10000\n",
    "        continue\n",
    "    else:\n",
    "        pathfile = pathtimestamps + timestamps[i]\n",
    "        neuron = np.genfromtxt(pathfile, delimiter = ',') #imports specified neuron\n",
    "        neuron = np.sort(neuron)\n",
    "\n",
    "        periodphase = np.genfromtxt(pathtimestamps2, delimiter = ',')\n",
    "        \n",
    "        if x == 10000:\n",
    "            jtkphase = periodphase[i,1]\n",
    "            jtkperiod = periodphase[i,0]\n",
    "        else:    \n",
    "            jtkphase = periodphase[i+1,1]\n",
    "            jtkperiod = periodphase[i+1,0]\n",
    "            \n",
    "        if jtkphase > jtkperiod:\n",
    "            jtkphase = jtkphase - jtkperiod\n",
    "        \n",
    "        if jtkphase > 24:\n",
    "            phaseday1 = ' '\n",
    "            phaseday2 = jtkphase\n",
    "        else:\n",
    "            phaseday1 = jtkphase\n",
    "            phaseday2 = jtkphase + jtkperiod\n",
    "        \n",
    "        phaseday2 = jtkphase + jtkperiod\n",
    "        \n",
    "        phases = [phaseday1, phaseday2]\n",
    "        print phases \n",
    "\n",
    "print 'finished!'"
   ]
  },
  {
   "cell_type": "code",
   "execution_count": null,
   "metadata": {
    "collapsed": true
   },
   "outputs": [],
   "source": []
  }
 ],
 "metadata": {
  "kernelspec": {
   "display_name": "Python 2",
   "language": "python",
   "name": "python2"
  },
  "language_info": {
   "codemirror_mode": {
    "name": "ipython",
    "version": 2
   },
   "file_extension": ".py",
   "mimetype": "text/x-python",
   "name": "python",
   "nbconvert_exporter": "python",
   "pygments_lexer": "ipython2",
   "version": "2.7.12"
  }
 },
 "nbformat": 4,
 "nbformat_minor": 0
}
