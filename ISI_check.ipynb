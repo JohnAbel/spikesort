{
 "cells": [
  {
   "cell_type": "code",
   "execution_count": 23,
   "metadata": {
    "collapsed": false
   },
   "outputs": [],
   "source": [
    "#run ISIcheck after sorting - before neuron combination\n",
    "#need to remove **_profiles.npy and **_times.npy neurons that fail ISIcheck\n",
    "#before running neuron combination\n",
    "#code second part\n",
    "\n",
    "import numpy as np\n",
    "import matplotlib.pyplot as plt\n",
    "import os \n",
    "import shutil\n",
    "\n",
    "MEA = '102016_MEAC' # write MEA in\n",
    "path = '/Volumes/MEA_DATA_2/102016_MEAC/numpy_neurons/3stim/' #make path for stimulation\n",
    "\n",
    "def ISIcheck(MEA):\n",
    "    pathtimestamps = '/Volumes/MEA_DATA_2/'+MEA+'/numpy_neurons/'\n",
    "    days = os.listdir(pathtimestamps)\n",
    "\n",
    "    completedays = ['0','1','2','4','5','6']\n",
    "\n",
    "    for i in range(len(days)):\n",
    "        if days[i][0] == completedays[0] or completedays[1] or completedays[2] or completedays[3] or completedays[4] or completedays[5]:\n",
    "            path3 = pathtimestamps+days[i]+'/ISIgraphs'\n",
    "            \n",
    "\n",
    "            if os.path.isdir(pathtimestamps+days[i]+'/badISI') == False:\n",
    "                os.mkdir(pathtimestamps+days[i]+'/badISI')\n",
    "                \n",
    "            path2 = pathtimestamps+days[i]\n",
    "            timestamps = os.listdir(path2)\n",
    "            for j in range(len(timestamps)):\n",
    "                if timestamps[j][-7:-1] == 'mes.np':\n",
    "                    neuron = np.load(path2+'/'+timestamps[j])\n",
    "                    if np.sum(neuron) > 0:\n",
    "                        isitimestamps = []\n",
    "                        counts = []\n",
    "\n",
    "                        for b in range(len(neuron)-1):\n",
    "                            isitimestamps.append(neuron[b+1]-neuron[b])\n",
    "\n",
    "                        bins = np.linspace(0,1,200)\n",
    "                        counts, testbins = np.histogram(isitimestamps, bins)\n",
    "                        \n",
    "                        if counts[0] > 0 and np.sum(counts) > 0:\n",
    "                            fractionbadspikes = counts[0]/np.sum(counts)\n",
    "                        else:\n",
    "                            fractionbadspikes = 0\n",
    "\n",
    "                        if fractionbadspikes > 0.005 or counts[0] > 500:\n",
    "                            pathx = path2+'/'+timestamps[j]\n",
    "                            pathy = path2+'/badISI'\n",
    "                            shutil.move(pathx, pathy)\n",
    "                            \n",
    "                            z = len(timestamps[j])-9\n",
    "                            secondfile = timestamps[j][0:z]+'profiles.npy'\n",
    "                            \n",
    "                            pathz = path2+'/'+secondfile\n",
    "                            pathy = path2+'/badISI'\n",
    "                            shutil.move(pathz, pathy)\n",
    "                            j = j-2\n",
    "                            if j < 0:\n",
    "                                j = 0\n",
    "\n",
    "                            #print 'day', i, timestamps[j]\n"
   ]
  },
  {
   "cell_type": "code",
   "execution_count": 34,
   "metadata": {
    "collapsed": false
   },
   "outputs": [],
   "source": [
    "def ISIcalculate(neuron):\n",
    "    isitimestamps = []\n",
    "    counts = []\n",
    "    \n",
    "    for b in range(len(neuron)-1):\n",
    "        isitimestamps.append(neuron[b+1]-neuron[b])\n",
    "    \n",
    "    bins = np.linspace(0,1,200)\n",
    "    counts, testbins = np.histogram(isitimestamps, bins)\n",
    "    \n",
    "    return counts, testbins\n",
    "\n"
   ]
  },
  {
   "cell_type": "code",
   "execution_count": 39,
   "metadata": {
    "collapsed": false
   },
   "outputs": [],
   "source": [
    "# calculates ISIs for stimulation file\n",
    "\n",
    "timestamps = os.listdir(path)\n",
    "if os.path.isdir(path+'ISIgraphs') == False:\n",
    "    os.mkdir(path+'ISIgraphs')\n",
    "\n",
    "for i in range(len(timestamps)):\n",
    "    if timestamps[i][-7:-1] == 'mes.np':\n",
    "        neuron = np.load(path+timestamps[i])\n",
    "        \n",
    "        counts, testbins = ISIcalculate(neuron)\n",
    "        \n",
    "        plt.close()\n",
    "        binplot = np.delete(testbins, [199], None)\n",
    "        \n",
    "        plt.figure()\n",
    "        plt.plot(binplot, counts)\n",
    "        plt.title(timestamps[i])\n",
    "        plt.xlabel(\"Time (s)\")\n",
    "        plt.ylabel(\"# of spikes\")\n",
    "        plt.savefig(path+'ISIgraphs/'+timestamps[i][0:12])"
   ]
  },
  {
   "cell_type": "code",
   "execution_count": null,
   "metadata": {
    "collapsed": true
   },
   "outputs": [],
   "source": [
    "ISIcheck(MEA) # calculates bad ISIs for MEA"
   ]
  }
 ],
 "metadata": {
  "kernelspec": {
   "display_name": "Python 2",
   "language": "python",
   "name": "python2"
  },
  "language_info": {
   "codemirror_mode": {
    "name": "ipython",
    "version": 2
   },
   "file_extension": ".py",
   "mimetype": "text/x-python",
   "name": "python",
   "nbconvert_exporter": "python",
   "pygments_lexer": "ipython2",
   "version": "2.7.12"
  }
 },
 "nbformat": 4,
 "nbformat_minor": 0
}
