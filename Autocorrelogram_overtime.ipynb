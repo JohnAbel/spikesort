{
 "cells": [
  {
   "cell_type": "code",
   "execution_count": 1,
   "metadata": {
    "collapsed": true
   },
   "outputs": [],
   "source": [
    "import os\n",
    "import numpy as np\n",
    "import matplotlib.pyplot as plt\n",
    "import csv\n",
    "MEA = '102016_MEAB'\n",
    "\n",
    "pathtimestamps = '/Users/Tolkien/Box Sync/Mazuski_VIPChR2OpticalTagging_MEADATA/'+MEA+'_sorting_results/VIP+/' # change the path depending on MEA\n",
    "#path2 = '/Users/Tolkien/Documents/Mazuski_MEAresults/Autocorrelograms/'\n",
    "\n",
    "\n",
    "\n",
    "timestamps = os.listdir(pathtimestamps) # lists the directory containing all the timestamps from that MEA\n",
    "timestamps = np.sort(timestamps)\n",
    "#os.mkdir(path2+MEA)"
   ]
  },
  {
   "cell_type": "code",
   "execution_count": 2,
   "metadata": {
    "collapsed": true
   },
   "outputs": [],
   "source": [
    "pathfile = pathtimestamps + timestamps[0]\n",
    "neuron = np.genfromtxt(pathfile, delimiter = ',') #imports specified neuron\n",
    "neuron = np.sort(neuron)\n",
    "\n",
    "isi = []\n",
    "freq = []\n",
    "\n",
    "for j in range(len(neuron)-1):\n",
    "    isi.append(neuron[j+1] - neuron[j])\n",
    "    freq.append(1/isi[j])\n"
   ]
  },
  {
   "cell_type": "code",
   "execution_count": 3,
   "metadata": {
    "collapsed": false
   },
   "outputs": [],
   "source": [
    "hoursofrecording = int(neuron[-1]/3600)\n",
    "autocorrelogram = []\n",
    "\n",
    "for x in range(hoursofrecording):\n",
    "    hourtime = []\n",
    "    for a in range(len(neuron)):\n",
    "        if neuron[a] > x*3600 and neuron[a] < (x+1)*3600:\n",
    "            hourtime.append(neuron[a])\n",
    "    autocorrtogether = []\n",
    "    \n",
    "    if hourtime > 2:\n",
    "        for b in range(len(hourtime)):\n",
    "            c = b+1\n",
    "            test = []\n",
    "            autocorrcounts = []\n",
    "            test = hourtime[c:] - hourtime[b]\n",
    "            autocorrcounts, bins = np.histogram(test, 100, range=(0,1))\n",
    "            autocorrtogether.append(autocorrcounts)\n",
    "    finalautocorr = np.sum(autocorrtogether, axis = 0)\n",
    "    autocorrelogram.append(finalautocorr)\n",
    "\n",
    "plt.imshow(autocorrelogram, cmap='hot', interpolation='nearest')\n",
    "plt.show()"
   ]
  },
  {
   "cell_type": "code",
   "execution_count": 101,
   "metadata": {
    "collapsed": false
   },
   "outputs": [
    {
     "data": {
      "text/plain": [
       "0"
      ]
     },
     "execution_count": 101,
     "metadata": {},
     "output_type": "execute_result"
    }
   ],
   "source": [
    "x"
   ]
  },
  {
   "cell_type": "code",
   "execution_count": 67,
   "metadata": {
    "collapsed": false
   },
   "outputs": [],
   "source": [
    "autocorrtogether = []\n",
    "for b in range(len(hourtime)):\n",
    "    c = b+1\n",
    "    test2 = hourtime[c:] - hourtime[b]\n",
    "    autocorrcounts, bins = np.histogram(test2, 100, range=(0,1))\n",
    "    autocorrtogether.append(autocorrcounts)\n",
    "\n",
    "finalautcorr = np.sum(autocorrtogether, axis = 0)"
   ]
  },
  {
   "cell_type": "code",
   "execution_count": 96,
   "metadata": {
    "collapsed": false
   },
   "outputs": [],
   "source": [
    "a = np.random.random((16, 20))\n",
    "plt.imshow(finalall, cmap='hot', interpolation='nearest')\n",
    "plt.show()"
   ]
  }
 ],
 "metadata": {
  "kernelspec": {
   "display_name": "Python 2",
   "language": "python",
   "name": "python2"
  },
  "language_info": {
   "codemirror_mode": {
    "name": "ipython",
    "version": 2
   },
   "file_extension": ".py",
   "mimetype": "text/x-python",
   "name": "python",
   "nbconvert_exporter": "python",
   "pygments_lexer": "ipython2",
   "version": "2.7.12"
  }
 },
 "nbformat": 4,
 "nbformat_minor": 0
}
