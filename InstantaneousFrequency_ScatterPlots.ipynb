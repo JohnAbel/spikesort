{
 "cells": [
  {
   "cell_type": "code",
   "execution_count": 1,
   "metadata": {
    "collapsed": false
   },
   "outputs": [],
   "source": [
    "import os\n",
    "import numpy as np\n",
    "import matplotlib.pyplot as plt\n",
    "import csv\n",
    "MEA = '102016_MEAC'\n",
    "\n",
    "pathtimestamps = '/Volumes/MEA_DATA_2/102016_MEAC/numpy_neurons/combinedtimestamps/beforestim_timestamps/Circadian3day/'\n",
    "path2 = '/Volumes/MEA_DATA_2/102016_MEAC/numpy_neurons/combinedtimestamps/beforestim_timestamps/3day_instantfreq/'\n",
    "\n",
    "if os.path.isdir(path2) == False:\n",
    "    os.mkdir(path2)\n",
    "\n",
    "timestamps = os.listdir(pathtimestamps) # lists the directory containing all the timestamps from that MEA\n",
    "timestamps = np.sort(timestamps)"
   ]
  },
  {
   "cell_type": "code",
   "execution_count": 3,
   "metadata": {
    "collapsed": false
   },
   "outputs": [
    {
     "name": "stdout",
     "output_type": "stream",
     "text": [
      "Finished!\n"
     ]
    }
   ],
   "source": [
    "for i in range(len(timestamps)):\n",
    "    \n",
    "    if timestamps[i][-3:] == 'npy':\n",
    "        pathfile = pathtimestamps + timestamps[i]\n",
    "        neuron = np.load(pathfile)\n",
    "        \n",
    "        isi = []\n",
    "        freq = []\n",
    "\n",
    "        for j in range(len(neuron)-1):\n",
    "            isi.append(neuron[j+1] - neuron[j])\n",
    "            freq.append(1/isi[j])\n",
    "\n",
    "        plt.close()\n",
    "        \n",
    "        endtime = neuron[-1]\n",
    "        neuron = np.delete(neuron, [0])\n",
    "        fig, ax = plt.subplots(figsize = (15,10))\n",
    "        plt.tight_layout()\n",
    "        plt.scatter(neuron, freq, s=.5, color = (['blue', 'black']))\n",
    "        ax.set_ylim([0,15])\n",
    "        ax.set_xlim([0,endtime])\n",
    "        filelable = timestamps[i][0:11]\n",
    "        plt.savefig(path2+filelable)\n",
    "        \n",
    "        plt.close()\n",
    "        fig, ax = plt.subplots(figsize = (15,10))\n",
    "        plt.tight_layout()\n",
    "        plt.scatter(neuron, isi, s=.5, color = (['blue', 'black']))\n",
    "        ax.set_ylim([0,1])\n",
    "        ax.set_xlim([0,endtime])\n",
    "        filelable = timestamps[i][0:11]\n",
    "        plt.savefig(path2+filelable+'isi')\n",
    "    else:\n",
    "        continue\n",
    "\n",
    "print 'Finished!'"
   ]
  },
  {
   "cell_type": "code",
   "execution_count": null,
   "metadata": {
    "collapsed": true
   },
   "outputs": [],
   "source": []
  }
 ],
 "metadata": {
  "kernelspec": {
   "display_name": "Python 2",
   "language": "python",
   "name": "python2"
  },
  "language_info": {
   "codemirror_mode": {
    "name": "ipython",
    "version": 2
   },
   "file_extension": ".py",
   "mimetype": "text/x-python",
   "name": "python",
   "nbconvert_exporter": "python",
   "pygments_lexer": "ipython2",
   "version": "2.7.12"
  }
 },
 "nbformat": 4,
 "nbformat_minor": 0
}
